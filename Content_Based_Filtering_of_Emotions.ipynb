{
 "cells": [
  {
   "cell_type": "markdown",
   "metadata": {},
   "source": [
    "<h1 style=\"text-align: center; color:#1C1678\">Content Based Filtering of Emotions</h1>"
   ]
  },
  {
   "cell_type": "markdown",
   "metadata": {},
   "source": [
    "## <font color='4F1787'> Description</font>"
   ]
  },
  {
   "cell_type": "markdown",
   "metadata": {},
   "source": [
    "Content-based filtering of emotions is a personalized recommendation approach that leverages the emotional content of items to make recommendations to users. Unlike collaborative filtering, which relies on user-item interactions, content-based filtering focuses on the intrinsic features of items and users' emotional preferences. By analyzing the emotional tone, sentiment, and context of content, this method tailors recommendations to match users' emotional states and preferences. It involves techniques such as sentiment analysis, natural language processing, and emotional profiling to understand the emotional resonance of content. Content-based filtering of emotions aims to enhance user satisfaction and engagement by delivering emotionally relevant recommendations tailored to individual preferences.\r\n",
    "\r\n",
    "\r\n"
   ]
  },
  {
   "cell_type": "markdown",
   "metadata": {},
   "source": [
    "## <font color ='4F1787'>Problem Statement </font>"
   ]
  },
  {
   "cell_type": "markdown",
   "metadata": {},
   "source": [
    "Develop a content-based recommendation system that accurately identifies and filters content based on the emotional tone or sentiment expressed within the content. The system should analyze textual data (such as social media posts, articles, reviews, etc.) and categorize the content into predefined emotional categories (such as joy, sadness, anger, fear, surprise, etc.). The goal is to create a model that can be used to recommend content that matches a user's current emotional state or to filter out content with certain emotional tones for improved user experience"
   ]
  },
  {
   "cell_type": "markdown",
   "metadata": {},
   "source": [
    "### <font color ='#4F1787'>Importing Libraries</font>"
   ]
  },
  {
   "cell_type": "code",
   "execution_count": 82,
   "metadata": {
    "id": "yKFjWz6e5eiH"
   },
   "outputs": [],
   "source": [
    "%matplotlib inline\n",
    "import pandas as pd\n",
    "import seaborn  as sns\n",
    "import tensorflow as tf\n",
    "import numpy as np\n",
    "import matplotlib.pyplot as plt\n",
    "import nlp\n",
    "import random\n"
   ]
  },
  {
   "cell_type": "markdown",
   "metadata": {},
   "source": [
    "Importing various libraries for data manipulation, visualization, deep learning, natural language processing, and random number generation"
   ]
  },
  {
   "cell_type": "code",
   "execution_count": 84,
   "metadata": {
    "id": "826tQBp5zlb1"
   },
   "outputs": [],
   "source": [
    "import warnings\n",
    "warnings.filterwarnings('ignore')"
   ]
  },
  {
   "cell_type": "markdown",
   "metadata": {},
   "source": [
    "Suppresses all warning messages"
   ]
  },
  {
   "cell_type": "markdown",
   "metadata": {
    "id": "nvfVk2GNiJH5"
   },
   "source": [
    "### <font color ='#4F1787'>Importing the Dataset</font> "
   ]
  },
  {
   "cell_type": "code",
   "execution_count": 87,
   "metadata": {
    "colab": {
     "base_uri": "https://localhost:8080/",
     "height": 342,
     "referenced_widgets": [
      "34ce67545af640338c2e45faf2650280",
      "a875b7badee144fb813b327c606f545d",
      "293bae3ebb4c441a8754e0079207525e",
      "691f56bfe2a9416fbdc502299980a72c",
      "ad1a1a98277140159597ef58d8c6a7cf",
      "e0e489347bf84eaa9e6736345796531e",
      "40ebf6be0eae475f80a4e95a42cb4daa",
      "9c730a7e068e457ca022b4a894a09a50",
      "30dd749c33a64eef957e3a3707a452d3",
      "22400b87b53c4330beb0312099dd2df0",
      "a7eecfb1ec74405db3ece070f0e90c75",
      "ff88935971644df1a1a8e8b19dfb0b40",
      "6fe32259eab64bc390880756b92604eb",
      "44457c66b4b646588d4a410b16638348",
      "3e84f0639d724728b12119f061fad032",
      "605b35fa125b42058498f468d19673b5",
      "f1af1d8a7c664c148cea0182a04ccde9",
      "0d9c55de07d24f8aa6b4f158de5b652c",
      "b53f977d035247008b5c64f99bbc3bd8",
      "709d672eca9f482296cf374e7b76845c",
      "674a43ccdfaa450da2cb7c0f9211a015",
      "6ca20d607e4446bba3569fbc59ebc9e5",
      "14685c5bf31a46b2b8a25e8c54e8bf11",
      "fc3865ada9874c0c943ac6a1cc27440a",
      "643a82a9cd1647c7bec72b193f962918",
      "752a64be75fa4dbabe89195495b1fec3",
      "d0dfb8e00d484e5cb1665a800fa2ac3a",
      "03b4ce1797e74e93bb06c37754ac5e9d",
      "be6259e1a31f40659caefeb58a64bc7e",
      "a235387c398e4d1cab2357f77ccfecaa",
      "33e3657c28dc46dca4b0de5108525b07",
      "a707ea427621483894d88c65153ee9d1",
      "e75566c54bd64f03835d2c4a01308ead",
      "f95d899e6d204500a1f0c2d9fd5e1f29",
      "afa2cdbc58b84ad6a47b1227320a3ab4",
      "a842d628f1c14d38b5eb97ceb1d3ee6d",
      "93a8c8d32807489897f3de3b346bd75e",
      "1a167cc1c7c5424390daeef688cb6fe8",
      "c0577dede98243109131765307992f9d",
      "0ffe701d471d49859c63eba763bfb149",
      "1a3ee52a06b04007adf3f6316146bb57",
      "74b822dcf74d42e4980df136c2ae678c",
      "e44979fabb774e2aa43fe9d69d61252c",
      "0a9a43b759f84eba837a65fa6b8f5b1c",
      "df61f9f8e1c446539e14abff3312f7bb",
      "165b8853010d484496c30fffa0ef5829",
      "e24a7e6e565b438796b74a6d7a875b37",
      "2c612b75986d48f39e521e2702edd657",
      "cedd341a7bf34e9ab6f5635e739d6bb6",
      "75776a5d595f42efa4c2fb8b28627bfb",
      "7d0a7e1f138d46429b9a26dfd051acb2",
      "23c6b292360f40eaaa2f85d10492d490",
      "a3113489080148c4893dfd20870b211e",
      "1f840d8e22cb410e940dd20a3aeb58c2",
      "7708a49b8e88497c9232ab49d411219a",
      "8f9c10a7b44d412f94c40b3bcd3d4ce4",
      "f4168ede76c845c7a5106fde9eaec5da",
      "5fc1df04d18948c0b87be10379ea51f3",
      "63459b39dc2b4cbca3f1fdaeb992a6ab",
      "a92791e4afcf4c03af792bc0fb2b120e",
      "700993c236754b2788db60f61c0a62c9",
      "9581dcfcdbf843abae1894341db61fe8",
      "3c3a644f36544640ab2255db0ec1f55c",
      "77fffd82779143d09bedc6bce25aada4",
      "e4d0fa0a68744b13ab29ebcf02403e5e"
     ]
    },
    "id": "0YHOvjAu5eiL",
    "outputId": "411eb4c0-7fd8-4c15-f388-85a530564000"
   },
   "outputs": [],
   "source": [
    "from datasets import load_dataset\n",
    "dataset = load_dataset(\"emotion\",trust_remote_code=True)"
   ]
  },
  {
   "cell_type": "markdown",
   "metadata": {},
   "source": [
    "#### <font color ='navy'>Displaying the data sets"
   ]
  },
  {
   "cell_type": "code",
   "execution_count": 89,
   "metadata": {
    "colab": {
     "base_uri": "https://localhost:8080/"
    },
    "id": "jpi1dL1wiJH8",
    "outputId": "092914bf-923f-4bb4-86c8-ca295b0b851b"
   },
   "outputs": [
    {
     "data": {
      "text/plain": [
       "DatasetDict({\n",
       "    train: Dataset({\n",
       "        features: ['text', 'label'],\n",
       "        num_rows: 16000\n",
       "    })\n",
       "    validation: Dataset({\n",
       "        features: ['text', 'label'],\n",
       "        num_rows: 2000\n",
       "    })\n",
       "    test: Dataset({\n",
       "        features: ['text', 'label'],\n",
       "        num_rows: 2000\n",
       "    })\n",
       "})"
      ]
     },
     "execution_count": 89,
     "metadata": {},
     "output_type": "execute_result"
    }
   ],
   "source": [
    "dataset"
   ]
  },
  {
   "cell_type": "markdown",
   "metadata": {},
   "source": [
    "#### <font color ='navy'>Creating the variables of each dataset"
   ]
  },
  {
   "cell_type": "code",
   "execution_count": 91,
   "metadata": {
    "id": "z7eCnxU25eiN"
   },
   "outputs": [],
   "source": [
    "train = dataset['train']\n",
    "val = dataset['validation']\n",
    "test = dataset['test']"
   ]
  },
  {
   "cell_type": "markdown",
   "metadata": {},
   "source": [
    "### <font color ='#4F1787'>Exploratory Data Analysis (EDA)</font> "
   ]
  },
  {
   "cell_type": "markdown",
   "metadata": {},
   "source": [
    "#### <font color ='navy'>Converting datasets to pandas DataFrames for easier EDA"
   ]
  },
  {
   "cell_type": "code",
   "execution_count": 94,
   "metadata": {},
   "outputs": [],
   "source": [
    "train_df = pd.DataFrame(train)\n",
    "val_df = pd.DataFrame(val)\n",
    "test_df = pd.DataFrame(test)"
   ]
  },
  {
   "cell_type": "markdown",
   "metadata": {},
   "source": [
    "#### <font color ='navy'>Basic Dataset Information"
   ]
  },
  {
   "cell_type": "code",
   "execution_count": 96,
   "metadata": {},
   "outputs": [
    {
     "name": "stdout",
     "output_type": "stream",
     "text": [
      "Train Dataset Shape: (16000, 2)\n",
      "Validation Dataset Shape: (2000, 2)\n",
      "Test Dataset Shape: (2000, 2)\n"
     ]
    }
   ],
   "source": [
    "print(\"Train Dataset Shape:\", train_df.shape)\n",
    "print(\"Validation Dataset Shape:\", val_df.shape)\n",
    "print(\"Test Dataset Shape:\", test_df.shape)"
   ]
  },
  {
   "cell_type": "code",
   "execution_count": 97,
   "metadata": {},
   "outputs": [
    {
     "name": "stdout",
     "output_type": "stream",
     "text": [
      "Train Dataset Summary:\n",
      "               label\n",
      "count  16000.000000\n",
      "mean       1.565937\n",
      "std        1.501430\n",
      "min        0.000000\n",
      "25%        0.000000\n",
      "50%        1.000000\n",
      "75%        3.000000\n",
      "max        5.000000\n"
     ]
    }
   ],
   "source": [
    "print(\"Train Dataset Summary:\\n\", train_df.describe())"
   ]
  },
  {
   "cell_type": "markdown",
   "metadata": {},
   "source": [
    "The train dataset has a mean label of approximately 1.57, indicating a distribution skewed towards lower values, with labels ranging from 0 to 5."
   ]
  },
  {
   "cell_type": "markdown",
   "metadata": {},
   "source": [
    "#### <font color ='navy'>Missing Values Check"
   ]
  },
  {
   "cell_type": "code",
   "execution_count": 100,
   "metadata": {},
   "outputs": [
    {
     "name": "stdout",
     "output_type": "stream",
     "text": [
      "Missing Values in Train Dataset:\n",
      " text     0\n",
      "label    0\n",
      "dtype: int64\n"
     ]
    }
   ],
   "source": [
    "print(\"Missing Values in Train Dataset:\\n\", train_df.isnull().sum())"
   ]
  },
  {
   "cell_type": "markdown",
   "metadata": {},
   "source": [
    "There are no missing values in training dataset"
   ]
  },
  {
   "cell_type": "markdown",
   "metadata": {},
   "source": [
    "#### <font color ='navy'>Emotion Distribution in Train Dataset"
   ]
  },
  {
   "cell_type": "code",
   "execution_count": 103,
   "metadata": {},
   "outputs": [
    {
     "data": {
      "image/png": "[encoded data removed]",
      "text/plain": [
       "<Figure size 1000x600 with 1 Axes>"
      ]
     },
     "metadata": {},
     "output_type": "display_data"
    }
   ],
   "source": [
    "plt.figure(figsize=(10, 6))\n",
    "sns.countplot(x='label', data=train_df)\n",
    "plt.title('Distribution of Emotions in Train Dataset')\n",
    "plt.show()"
   ]
  },
  {
   "cell_type": "markdown",
   "metadata": {},
   "source": [
    "The plot reveals the representation of each emotion in the dataset"
   ]
  },
  {
   "cell_type": "markdown",
   "metadata": {},
   "source": [
    "#### <font color ='navy'>Text Length Analysis in Train Dataset"
   ]
  },
  {
   "cell_type": "code",
   "execution_count": 106,
   "metadata": {},
   "outputs": [
    {
     "data": {
      "image/png": "[encoded data removed]",
      "text/plain": [
       "<Figure size 1000x600 with 1 Axes>"
      ]
     },
     "metadata": {},
     "output_type": "display_data"
    }
   ],
   "source": [
    "text_length = train_df['text'].apply(len)\n",
    "plt.figure(figsize=(10, 6))\n",
    "sns.histplot(text_length, bins=50 )\n",
    "plt.title('Distribution of Text Lengths in Train Dataset')\n",
    "plt.xlabel('Text Length')\n",
    "plt.ylabel('Frequency')\n",
    "plt.show()"
   ]
  },
  {
   "cell_type": "markdown",
   "metadata": {},
   "source": [
    "The distribution of text lengths in the train dataset shows that most texts are between 50 to 100 characters long, with a right-skewed distribution indicating fewer texts with lengths exceeding 150 characters."
   ]
  },
  {
   "cell_type": "markdown",
   "metadata": {},
   "source": [
    "### <font color ='#4F1787'>Data Preprocessing</font> "
   ]
  },
  {
   "cell_type": "markdown",
   "metadata": {},
   "source": [
    "#### <font color ='navy'>Creating a function named get_tweets and data is passed as a parameter"
   ]
  },
  {
   "cell_type": "code",
   "execution_count": 110,
   "metadata": {
    "id": "oDYXMfZy5eiP"
   },
   "outputs": [],
   "source": [
    "def get_tweets(data):\n",
    "\n",
    "    #creating two empty lists i.e., tweets and labels\n",
    "    tweets = [x['text'] for x in data]\n",
    "    labels = [x['label'] for x in data]\n",
    "    return tweets, labels"
   ]
  },
  {
   "cell_type": "markdown",
   "metadata": {},
   "source": [
    "For each dictionary, we retrieve the value associated with the key 'text' and append it to tweets list. <br>\n",
    "For each dictionary, we retrieve the value associated with the key 'label' and append it to label list."
   ]
  },
  {
   "cell_type": "markdown",
   "metadata": {},
   "source": [
    "#### <font color ='navy'>labeling the emotions by number in a dictionary format"
   ]
  },
  {
   "cell_type": "code",
   "execution_count": 113,
   "metadata": {
    "id": "u9zJ1-r0IA2F",
    "outputId": "f3208859-92b6-464b-b831-969ebce2d7de"
   },
   "outputs": [
    {
     "name": "stdout",
     "output_type": "stream",
     "text": [
      "{0, 1, 2, 3, 4, 5}\n",
      "{0: 'sadness', 1: 'anger', 2: 'love', 3: 'surprise', 4: 'fear', 5: 'joy'}\n"
     ]
    }
   ],
   "source": [
    "label_to_emotion = {\n",
    "    0: 'sadness',\n",
    "    1: 'anger',\n",
    "    2: 'love',\n",
    "    3: 'surprise',\n",
    "    4: 'fear',\n",
    "    5: 'joy'\n",
    "}\n",
    "\n",
    "# Get the tweets and labels from train variable\n",
    "tweets, labels = get_tweets(train)\n",
    "\n",
    "# Print the set of integer labels\n",
    "print(set(labels))\n",
    "\n",
    "# Convert the integer labels to emotion names\n",
    "emotions = [label_to_emotion[label] for label in labels]\n",
    "# Print the set of emotion names\n",
    "print(label_to_emotion)"
   ]
  },
  {
   "cell_type": "markdown",
   "metadata": {},
   "source": [
    "#### <font color ='navy'>Displaying tweets"
   ]
  },
  {
   "cell_type": "code",
   "execution_count": 115,
   "metadata": {
    "colab": {
     "base_uri": "https://localhost:8080/"
    },
    "id": "bHD3Tk0J5eiU",
    "outputId": "dde40bf6-e662-49d9-da29-be09514ea4b2"
   },
   "outputs": [
    {
     "data": {
      "text/plain": [
       "('i feel like i have to make the suffering i m seeing mean something', 0)"
      ]
     },
     "execution_count": 115,
     "metadata": {},
     "output_type": "execute_result"
    }
   ],
   "source": [
    "tweets[10], labels[10] "
   ]
  },
  {
   "cell_type": "markdown",
   "metadata": {
    "id": "9guH0-5qiJII"
   },
   "source": [
    "### <font color ='#4F1787'>Tokenizing the Tweets</font> "
   ]
  },
  {
   "cell_type": "markdown",
   "metadata": {},
   "source": [
    "The Tokenizer class in the tensorflow.keras.preprocessing.text module is a powerful tool for tokenizing text data in Python. It provides methods to convert text into sequences of tokens, which can then be used for further analysis or modeling."
   ]
  },
  {
   "cell_type": "code",
   "execution_count": 118,
   "metadata": {
    "id": "IYN8LWDmiJII"
   },
   "outputs": [],
   "source": [
    "from tensorflow.keras.preprocessing.text import Tokenizer"
   ]
  },
  {
   "cell_type": "code",
   "execution_count": 119,
   "metadata": {
    "colab": {
     "base_uri": "https://localhost:8080/"
    },
    "id": "cckUvwBo5eif",
    "outputId": "5a8e8d73-52a1-4789-ee67-8c64fa7334ed"
   },
   "outputs": [
    {
     "name": "stdout",
     "output_type": "stream",
     "text": [
      "[[2, 3, 14, 2, 21, 5, 80, 6, 733, 2, 93, 544, 304, 84]]\n"
     ]
    }
   ],
   "source": [
    "tokenizer = Tokenizer(num_words=10000, oov_token='<UNK>')\n",
    "\n",
    "tokenizer.fit_on_texts(tweets)\n",
    "\n",
    "print(tokenizer.texts_to_sequences([tweets[10]]))"
   ]
  },
  {
   "cell_type": "markdown",
   "metadata": {},
   "source": [
    "Initializes a tokenizer with a limit of 10,000 words, fits it on a list of tweets, and converts the 11th tweet into a sequence of integers based on the fitted vocabulary."
   ]
  },
  {
   "cell_type": "markdown",
   "metadata": {
    "id": "5AwQt4AgiJIJ"
   },
   "source": [
    "### <font color ='#4F1787'>Padding and Truncating Sequences </font> "
   ]
  },
  {
   "cell_type": "markdown",
   "metadata": {},
   "source": [
    "By using the 'get_sequences' function to preprocess the tweet data, as it can convert the raw text data into a format that is suitable for input to a machine learning model."
   ]
  },
  {
   "cell_type": "code",
   "execution_count": 123,
   "metadata": {
    "id": "tpOTvhoriJIK"
   },
   "outputs": [],
   "source": [
    "# The pad_sequences function is part of the tensorflow.keras.preprocessing.sequence module.\n",
    "# It takes a sequence of sequences as input and returns a new sequence of sequences with padded\n",
    "# or truncated sequences to a specified length.\n",
    "\n",
    "from tensorflow.keras.preprocessing.sequence import pad_sequences"
   ]
  },
  {
   "cell_type": "markdown",
   "metadata": {},
   "source": [
    "Sequences: This is the input sequence of sequences that we want to pad or truncate."
   ]
  },
  {
   "cell_type": "markdown",
   "metadata": {},
   "source": [
    "#### <font color ='navy'>The tokenizer is an instance of a tokenizer object, and tweets is a list of strings representing the tweets."
   ]
  },
  {
   "cell_type": "code",
   "execution_count": 126,
   "metadata": {
    "id": "Q9J_Iemf5eiq"
   },
   "outputs": [],
   "source": [
    "def get_sequences(tokenizer, tweets):\n",
    "    \n",
    "    # Each tweet is transformed into a sequence of numbers based on the tokenizer's vocabulary.\n",
    "    sequences = tokenizer.texts_to_sequences(tweets)\n",
    "\n",
    "    # It takes the sequences as input and performs padding to make all sequences of equal length.\n",
    "    padded_sequences = pad_sequences(sequences, truncating='post', maxlen=50, padding='post')\n",
    "    return padded_sequences"
   ]
  },
  {
   "cell_type": "markdown",
   "metadata": {},
   "source": [
    "The function get_sequences transforms tweets into padded sequences of numbers using a tokenizer, ensuring all sequences are of equal length."
   ]
  },
  {
   "cell_type": "code",
   "execution_count": 128,
   "metadata": {
    "id": "eglH77ky5ei0"
   },
   "outputs": [],
   "source": [
    "padded_train_sequences = get_sequences(tokenizer, tweets)"
   ]
  },
  {
   "cell_type": "code",
   "execution_count": 129,
   "metadata": {
    "colab": {
     "base_uri": "https://localhost:8080/"
    },
    "id": "iGR473HA5ei7",
    "outputId": "24268d40-1685-4b2d-bc6b-dd5f2f6dbaf5"
   },
   "outputs": [
    {
     "data": {
      "text/plain": [
       "array([  2,   3,  14,   2,  21,   5,  80,   6, 733,   2,  93, 544, 304,\n",
       "        84,   0,   0,   0,   0,   0,   0,   0,   0,   0,   0,   0,   0,\n",
       "         0,   0,   0,   0,   0,   0,   0,   0,   0,   0,   0,   0,   0,\n",
       "         0,   0,   0,   0,   0,   0,   0,   0,   0,   0,   0])"
      ]
     },
     "execution_count": 129,
     "metadata": {},
     "output_type": "execute_result"
    }
   ],
   "source": [
    "padded_train_sequences[10]"
   ]
  },
  {
   "cell_type": "markdown",
   "metadata": {
    "id": "cZ5SSsM4iJIL"
   },
   "source": [
    "### <font color ='#4F1787'>Preparing the Emotion Labels</font> "
   ]
  },
  {
   "cell_type": "markdown",
   "metadata": {},
   "source": [
    "#### <font color ='navy'>Extracting Unique Classes from Labels."
   ]
  },
  {
   "cell_type": "code",
   "execution_count": 132,
   "metadata": {
    "colab": {
     "base_uri": "https://localhost:8080/"
    },
    "id": "SufT2bpD5ejE",
    "outputId": "985137b7-b4bb-432e-99e9-186545507243"
   },
   "outputs": [
    {
     "name": "stdout",
     "output_type": "stream",
     "text": [
      "{0, 1, 2, 3, 4, 5}\n"
     ]
    }
   ],
   "source": [
    "classes = set(labels)\n",
    "print(classes)"
   ]
  },
  {
   "cell_type": "markdown",
   "metadata": {},
   "source": [
    "#### <font color ='navy'> Mapping Class Labels to Indices and Vice Versa"
   ]
  },
  {
   "cell_type": "code",
   "execution_count": 134,
   "metadata": {
    "id": "dNLF6rXL5ejN"
   },
   "outputs": [],
   "source": [
    "classes_to_index = dict((c, i) for i, c in enumerate(classes))\n",
    "index_to_classes = dict((v, k) for k, v in classes_to_index.items())"
   ]
  },
  {
   "cell_type": "markdown",
   "metadata": {},
   "source": [
    "Creates two dictionaries: classes_to_index, which maps class labels to their corresponding indices, and index_to_classes, which maps indices back to the class labels. "
   ]
  },
  {
   "cell_type": "code",
   "execution_count": 136,
   "metadata": {
    "colab": {
     "base_uri": "https://localhost:8080/"
    },
    "id": "AJx0hFItiJIO",
    "outputId": "dc92c81e-26c9-44a8-d3df-5087c0ad28e1"
   },
   "outputs": [
    {
     "data": {
      "text/plain": [
       "{0: 0, 1: 1, 2: 2, 3: 3, 4: 4, 5: 5}"
      ]
     },
     "execution_count": 136,
     "metadata": {},
     "output_type": "execute_result"
    }
   ],
   "source": [
    "index_to_classes"
   ]
  },
  {
   "cell_type": "markdown",
   "metadata": {},
   "source": [
    "#### <font color ='navy'> Mapping Class Labels to Numeric IDs"
   ]
  },
  {
   "cell_type": "code",
   "execution_count": 138,
   "metadata": {
    "id": "Jq0WJYsP5ejR"
   },
   "outputs": [],
   "source": [
    "names_to_ids = lambda labels: np.array([classes_to_index.get(x) for x in labels])"
   ]
  },
  {
   "cell_type": "markdown",
   "metadata": {},
   "source": [
    "Converts a list of class labels into an array of corresponding indices using a dictionary classes_to_index."
   ]
  },
  {
   "cell_type": "markdown",
   "metadata": {},
   "source": [
    "#### <font color ='navy'> Convert Label Names to IDs"
   ]
  },
  {
   "cell_type": "code",
   "execution_count": 141,
   "metadata": {
    "colab": {
     "base_uri": "https://localhost:8080/"
    },
    "id": "v15KnrNC5ejW",
    "outputId": "59f47aaf-a740-40d6-a360-696b9a34de43"
   },
   "outputs": [
    {
     "name": "stdout",
     "output_type": "stream",
     "text": [
      "1\n"
     ]
    }
   ],
   "source": [
    "train_labels = names_to_ids(labels)\n",
    "print(train_labels[11])"
   ]
  },
  {
   "cell_type": "markdown",
   "metadata": {
    "id": "bD4np-KsiJIS"
   },
   "source": [
    "### <font color ='#4F1787'>Creating the RNN Model with LSTM</font> "
   ]
  },
  {
   "cell_type": "code",
   "execution_count": 143,
   "metadata": {
    "colab": {
     "base_uri": "https://localhost:8080/"
    },
    "id": "OpewXxPQ5eji",
    "outputId": "b5c14cc7-90de-4934-9826-7787fc294cb8"
   },
   "outputs": [
    {
     "data": {
      "text/html": [
       "<pre style=\"white-space:pre;overflow-x:auto;line-height:normal;font-family:Menlo,'DejaVu Sans Mono',consolas,'Courier New',monospace\"><span style=\"font-weight: bold\">Model: \"sequential_1\"</span>\n",
       "</pre>\n"
      ],
      "text/plain": [
       "\u001b[1mModel: \"sequential_1\"\u001b[0m\n"
      ]
     },
     "metadata": {},
     "output_type": "display_data"
    },
    {
     "data": {
      "text/html": [
       "<pre style=\"white-space:pre;overflow-x:auto;line-height:normal;font-family:Menlo,'DejaVu Sans Mono',consolas,'Courier New',monospace\">┏━━━━━━━━━━━━━━━━━━━━━━━━━━━━━━━━━━━━━━┳━━━━━━━━━━━━━━━━━━━━━━━━━━━━━┳━━━━━━━━━━━━━━━━━┓\n",
       "┃<span style=\"font-weight: bold\"> Layer (type)                         </span>┃<span style=\"font-weight: bold\"> Output Shape                </span>┃<span style=\"font-weight: bold\">         Param # </span>┃\n",
       "┡━━━━━━━━━━━━━━━━━━━━━━━━━━━━━━━━━━━━━━╇━━━━━━━━━━━━━━━━━━━━━━━━━━━━━╇━━━━━━━━━━━━━━━━━┩\n",
       "│ embedding_1 (<span style=\"color: #0087ff; text-decoration-color: #0087ff\">Embedding</span>)              │ (<span style=\"color: #00d7ff; text-decoration-color: #00d7ff\">None</span>, <span style=\"color: #00af00; text-decoration-color: #00af00\">50</span>, <span style=\"color: #00af00; text-decoration-color: #00af00\">16</span>)              │         <span style=\"color: #00af00; text-decoration-color: #00af00\">160,000</span> │\n",
       "├──────────────────────────────────────┼─────────────────────────────┼─────────────────┤\n",
       "│ bidirectional_2 (<span style=\"color: #0087ff; text-decoration-color: #0087ff\">Bidirectional</span>)      │ (<span style=\"color: #00d7ff; text-decoration-color: #00d7ff\">None</span>, <span style=\"color: #00af00; text-decoration-color: #00af00\">50</span>, <span style=\"color: #00af00; text-decoration-color: #00af00\">40</span>)              │           <span style=\"color: #00af00; text-decoration-color: #00af00\">5,920</span> │\n",
       "├──────────────────────────────────────┼─────────────────────────────┼─────────────────┤\n",
       "│ bidirectional_3 (<span style=\"color: #0087ff; text-decoration-color: #0087ff\">Bidirectional</span>)      │ (<span style=\"color: #00d7ff; text-decoration-color: #00d7ff\">None</span>, <span style=\"color: #00af00; text-decoration-color: #00af00\">40</span>)                  │           <span style=\"color: #00af00; text-decoration-color: #00af00\">9,760</span> │\n",
       "├──────────────────────────────────────┼─────────────────────────────┼─────────────────┤\n",
       "│ dense_1 (<span style=\"color: #0087ff; text-decoration-color: #0087ff\">Dense</span>)                      │ (<span style=\"color: #00d7ff; text-decoration-color: #00d7ff\">None</span>, <span style=\"color: #00af00; text-decoration-color: #00af00\">6</span>)                   │             <span style=\"color: #00af00; text-decoration-color: #00af00\">246</span> │\n",
       "└──────────────────────────────────────┴─────────────────────────────┴─────────────────┘\n",
       "</pre>\n"
      ],
      "text/plain": [
       "┏━━━━━━━━━━━━━━━━━━━━━━━━━━━━━━━━━━━━━━┳━━━━━━━━━━━━━━━━━━━━━━━━━━━━━┳━━━━━━━━━━━━━━━━━┓\n",
       "┃\u001b[1m \u001b[0m\u001b[1mLayer (type)                        \u001b[0m\u001b[1m \u001b[0m┃\u001b[1m \u001b[0m\u001b[1mOutput Shape               \u001b[0m\u001b[1m \u001b[0m┃\u001b[1m \u001b[0m\u001b[1m        Param #\u001b[0m\u001b[1m \u001b[0m┃\n",
       "┡━━━━━━━━━━━━━━━━━━━━━━━━━━━━━━━━━━━━━━╇━━━━━━━━━━━━━━━━━━━━━━━━━━━━━╇━━━━━━━━━━━━━━━━━┩\n",
       "│ embedding_1 (\u001b[38;5;33mEmbedding\u001b[0m)              │ (\u001b[38;5;45mNone\u001b[0m, \u001b[38;5;34m50\u001b[0m, \u001b[38;5;34m16\u001b[0m)              │         \u001b[38;5;34m160,000\u001b[0m │\n",
       "├──────────────────────────────────────┼─────────────────────────────┼─────────────────┤\n",
       "│ bidirectional_2 (\u001b[38;5;33mBidirectional\u001b[0m)      │ (\u001b[38;5;45mNone\u001b[0m, \u001b[38;5;34m50\u001b[0m, \u001b[38;5;34m40\u001b[0m)              │           \u001b[38;5;34m5,920\u001b[0m │\n",
       "├──────────────────────────────────────┼─────────────────────────────┼─────────────────┤\n",
       "│ bidirectional_3 (\u001b[38;5;33mBidirectional\u001b[0m)      │ (\u001b[38;5;45mNone\u001b[0m, \u001b[38;5;34m40\u001b[0m)                  │           \u001b[38;5;34m9,760\u001b[0m │\n",
       "├──────────────────────────────────────┼─────────────────────────────┼─────────────────┤\n",
       "│ dense_1 (\u001b[38;5;33mDense\u001b[0m)                      │ (\u001b[38;5;45mNone\u001b[0m, \u001b[38;5;34m6\u001b[0m)                   │             \u001b[38;5;34m246\u001b[0m │\n",
       "└──────────────────────────────────────┴─────────────────────────────┴─────────────────┘\n"
      ]
     },
     "metadata": {},
     "output_type": "display_data"
    },
    {
     "data": {
      "text/html": [
       "<pre style=\"white-space:pre;overflow-x:auto;line-height:normal;font-family:Menlo,'DejaVu Sans Mono',consolas,'Courier New',monospace\"><span style=\"font-weight: bold\"> Total params: </span><span style=\"color: #00af00; text-decoration-color: #00af00\">175,926</span> (687.21 KB)\n",
       "</pre>\n"
      ],
      "text/plain": [
       "\u001b[1m Total params: \u001b[0m\u001b[38;5;34m175,926\u001b[0m (687.21 KB)\n"
      ]
     },
     "metadata": {},
     "output_type": "display_data"
    },
    {
     "data": {
      "text/html": [
       "<pre style=\"white-space:pre;overflow-x:auto;line-height:normal;font-family:Menlo,'DejaVu Sans Mono',consolas,'Courier New',monospace\"><span style=\"font-weight: bold\"> Trainable params: </span><span style=\"color: #00af00; text-decoration-color: #00af00\">175,926</span> (687.21 KB)\n",
       "</pre>\n"
      ],
      "text/plain": [
       "\u001b[1m Trainable params: \u001b[0m\u001b[38;5;34m175,926\u001b[0m (687.21 KB)\n"
      ]
     },
     "metadata": {},
     "output_type": "display_data"
    },
    {
     "data": {
      "text/html": [
       "<pre style=\"white-space:pre;overflow-x:auto;line-height:normal;font-family:Menlo,'DejaVu Sans Mono',consolas,'Courier New',monospace\"><span style=\"font-weight: bold\"> Non-trainable params: </span><span style=\"color: #00af00; text-decoration-color: #00af00\">0</span> (0.00 B)\n",
       "</pre>\n"
      ],
      "text/plain": [
       "\u001b[1m Non-trainable params: \u001b[0m\u001b[38;5;34m0\u001b[0m (0.00 B)\n"
      ]
     },
     "metadata": {},
     "output_type": "display_data"
    }
   ],
   "source": [
    "model = tf.keras.models.Sequential([\n",
    "    tf.keras.layers.Embedding(input_dim=10000, output_dim=16, input_length=50),\n",
    "    tf.keras.layers.Bidirectional(tf.keras.layers.LSTM(20, return_sequences=True)),\n",
    "    tf.keras.layers.Bidirectional(tf.keras.layers.LSTM(20)),\n",
    "    tf.keras.layers.Dense(6, activation='softmax')\n",
    "])\n",
    "\n",
    "model.build(input_shape=(None, 50))  # batch size None, sequence length 50\n",
    "\n",
    "model.compile(\n",
    "    loss='sparse_categorical_crossentropy',\n",
    "    optimizer='adam',\n",
    "    metrics=['accuracy']\n",
    ")\n",
    "\n",
    "model.summary()"
   ]
  },
  {
   "cell_type": "markdown",
   "metadata": {},
   "source": [
    "The model is a sequential neural network with embedding, bidirectional LSTM layers, and a dense output layer, designed for multi-class classification with categorical cross-entropy loss"
   ]
  },
  {
   "cell_type": "markdown",
   "metadata": {
    "id": "XiU-m6wEiJIT"
   },
   "source": [
    "### <font color ='#4F1787'>Training the Model</font> "
   ]
  },
  {
   "cell_type": "markdown",
   "metadata": {},
   "source": [
    "#### <font color ='navy'> Preparing Validation Data "
   ]
  },
  {
   "cell_type": "code",
   "execution_count": 147,
   "metadata": {
    "id": "Ff7F3hCK5ejm"
   },
   "outputs": [],
   "source": [
    "val_tweets, val_labels = get_tweets(val)\n",
    "val_sequences = get_sequences(tokenizer, val_tweets)\n",
    "val_labels = names_to_ids(val_labels)"
   ]
  },
  {
   "cell_type": "code",
   "execution_count": 148,
   "metadata": {
    "colab": {
     "base_uri": "https://localhost:8080/"
    },
    "id": "hlMKaZ3H5ejr",
    "outputId": "0312fa07-8257-430a-a919-df232ca5a08e"
   },
   "outputs": [
    {
     "data": {
      "text/plain": [
       "('i just know to begin with i am going to feel shy about it', 4)"
      ]
     },
     "execution_count": 148,
     "metadata": {},
     "output_type": "execute_result"
    }
   ],
   "source": [
    "val_tweets[20], val_labels[20]"
   ]
  },
  {
   "cell_type": "markdown",
   "metadata": {},
   "source": [
    "#### <font color ='navy'>Model Training"
   ]
  },
  {
   "cell_type": "code",
   "execution_count": 150,
   "metadata": {
    "colab": {
     "base_uri": "https://localhost:8080/"
    },
    "id": "bzBqnWQ-5ejw",
    "outputId": "0bc22944-c411-402c-f760-285364fa581e"
   },
   "outputs": [
    {
     "name": "stdout",
     "output_type": "stream",
     "text": [
      "Epoch 1/15\n",
      "\u001b[1m500/500\u001b[0m \u001b[32m━━━━━━━━━━━━━━━━━━━━\u001b[0m\u001b[37m\u001b[0m \u001b[1m17s\u001b[0m 21ms/step - accuracy: 0.3526 - loss: 1.5588 - val_accuracy: 0.6320 - val_loss: 0.9151\n",
      "Epoch 2/15\n",
      "\u001b[1m500/500\u001b[0m \u001b[32m━━━━━━━━━━━━━━━━━━━━\u001b[0m\u001b[37m\u001b[0m \u001b[1m10s\u001b[0m 19ms/step - accuracy: 0.7183 - loss: 0.7320 - val_accuracy: 0.8135 - val_loss: 0.5936\n",
      "Epoch 3/15\n",
      "\u001b[1m500/500\u001b[0m \u001b[32m━━━━━━━━━━━━━━━━━━━━\u001b[0m\u001b[37m\u001b[0m \u001b[1m10s\u001b[0m 19ms/step - accuracy: 0.8682 - loss: 0.4061 - val_accuracy: 0.8655 - val_loss: 0.4388\n",
      "Epoch 4/15\n",
      "\u001b[1m500/500\u001b[0m \u001b[32m━━━━━━━━━━━━━━━━━━━━\u001b[0m\u001b[37m\u001b[0m \u001b[1m10s\u001b[0m 19ms/step - accuracy: 0.9250 - loss: 0.2438 - val_accuracy: 0.8825 - val_loss: 0.3845\n",
      "Epoch 5/15\n",
      "\u001b[1m500/500\u001b[0m \u001b[32m━━━━━━━━━━━━━━━━━━━━\u001b[0m\u001b[37m\u001b[0m \u001b[1m10s\u001b[0m 19ms/step - accuracy: 0.9460 - loss: 0.1798 - val_accuracy: 0.8885 - val_loss: 0.3602\n",
      "Epoch 6/15\n",
      "\u001b[1m500/500\u001b[0m \u001b[32m━━━━━━━━━━━━━━━━━━━━\u001b[0m\u001b[37m\u001b[0m \u001b[1m10s\u001b[0m 19ms/step - accuracy: 0.9566 - loss: 0.1341 - val_accuracy: 0.8945 - val_loss: 0.3728\n",
      "Epoch 7/15\n",
      "\u001b[1m500/500\u001b[0m \u001b[32m━━━━━━━━━━━━━━━━━━━━\u001b[0m\u001b[37m\u001b[0m \u001b[1m10s\u001b[0m 19ms/step - accuracy: 0.9637 - loss: 0.1159 - val_accuracy: 0.8930 - val_loss: 0.3686\n",
      "Epoch 8/15\n",
      "\u001b[1m500/500\u001b[0m \u001b[32m━━━━━━━━━━━━━━━━━━━━\u001b[0m\u001b[37m\u001b[0m \u001b[1m10s\u001b[0m 19ms/step - accuracy: 0.9734 - loss: 0.0867 - val_accuracy: 0.8905 - val_loss: 0.3820\n"
     ]
    }
   ],
   "source": [
    "h = model.fit(\n",
    "    padded_train_sequences, train_labels,validation_data=(val_sequences, val_labels),epochs=15,callbacks=[tf.keras.callbacks.EarlyStopping(monitor='val_accuracy', patience=2)]\n",
    ")"
   ]
  },
  {
   "cell_type": "markdown",
   "metadata": {},
   "source": [
    "The model is trained on padded training sequences with early stopping based on validation accuracy for a maximum of 15 epochs"
   ]
  },
  {
   "cell_type": "markdown",
   "metadata": {
    "id": "kiKaj-3RiJIV"
   },
   "source": [
    "### <font color ='#4F1787'>Evaluating the Model</font> "
   ]
  },
  {
   "cell_type": "code",
   "execution_count": 153,
   "metadata": {
    "colab": {
     "base_uri": "https://localhost:8080/",
     "height": 392
    },
    "id": "PbI05hwKiJIV",
    "outputId": "a4cdfca3-e0f4-427b-ff7a-03e91659c496"
   },
   "outputs": [
    {
     "data": {
      "image/png": "[encoded data removed]",
      "text/plain": [
       "<Figure size 1600x600 with 2 Axes>"
      ]
     },
     "metadata": {},
     "output_type": "display_data"
    }
   ],
   "source": [
    "def show_history(h):\n",
    "    epochs_trained = len(h.history['loss'])\n",
    "    plt.figure(figsize=(16, 6))\n",
    "\n",
    "    plt.subplot(1, 2, 1)\n",
    "    plt.plot(range(0, epochs_trained), h.history.get('accuracy'), label='Training')\n",
    "    plt.plot(range(0, epochs_trained), h.history.get('val_accuracy'), label='Validation')\n",
    "    plt.ylim([0., 1.])\n",
    "    plt.xlabel('Epochs')\n",
    "    plt.ylabel('Accuracy')\n",
    "    plt.legend()\n",
    "\n",
    "    plt.subplot(1, 2, 2)\n",
    "    plt.plot(range(0, epochs_trained), h.history.get('loss'), label='Training')\n",
    "    plt.plot(range(0, epochs_trained), h.history.get('val_loss'), label='Validation')\n",
    "    plt.xlabel('Epochs')\n",
    "    plt.ylabel('Loss')\n",
    "    plt.legend()\n",
    "    plt.show()\n",
    "\n",
    "show_history(h)"
   ]
  },
  {
   "cell_type": "markdown",
   "metadata": {
    "id": "Xu34IB0SIA2N"
   },
   "source": [
    "### <font color ='#4F1787'>Testing Accuracy</font> "
   ]
  },
  {
   "cell_type": "markdown",
   "metadata": {},
   "source": [
    "#### <font color ='navy'>Preprocessing Test Tweets for Model Evaluation"
   ]
  },
  {
   "cell_type": "code",
   "execution_count": 156,
   "metadata": {
    "id": "4xCKeBP1iJIV"
   },
   "outputs": [],
   "source": [
    "test_tweets, test_labels = get_tweets(test)\n",
    "test_sequences = get_sequences(tokenizer, test_tweets)\n",
    "test_labels = names_to_ids(test_labels)"
   ]
  },
  {
   "cell_type": "markdown",
   "metadata": {},
   "source": [
    "The test tweets are tokenized and their corresponding labels are converted from names to IDs for further processing."
   ]
  },
  {
   "cell_type": "markdown",
   "metadata": {},
   "source": [
    "#### <font color ='navy'>Model Evaluation on Test Data"
   ]
  },
  {
   "cell_type": "code",
   "execution_count": 159,
   "metadata": {
    "colab": {
     "base_uri": "https://localhost:8080/"
    },
    "id": "aM7kditpiJIV",
    "outputId": "74835320-d476-4916-8231-d6a92f5501d4"
   },
   "outputs": [
    {
     "name": "stdout",
     "output_type": "stream",
     "text": [
      "\u001b[1m63/63\u001b[0m \u001b[32m━━━━━━━━━━━━━━━━━━━━\u001b[0m\u001b[37m\u001b[0m \u001b[1m0s\u001b[0m 6ms/step - accuracy: 0.8777 - loss: 0.3991\n"
     ]
    }
   ],
   "source": [
    "eval = model.evaluate(test_sequences, test_labels)"
   ]
  },
  {
   "cell_type": "markdown",
   "metadata": {},
   "source": [
    "The model achieved an accuracy of 88.27% with a loss of 0.4582."
   ]
  },
  {
   "cell_type": "code",
   "execution_count": 161,
   "metadata": {},
   "outputs": [
    {
     "name": "stdout",
     "output_type": "stream",
     "text": [
      "\u001b[1m63/63\u001b[0m \u001b[32m━━━━━━━━━━━━━━━━━━━━\u001b[0m\u001b[37m\u001b[0m \u001b[1m2s\u001b[0m 16ms/step\n",
      "(2000,) (2000,)\n"
     ]
    }
   ],
   "source": [
    "preds = model.predict(test_sequences)\n",
    "preds_classes = np.argmax(preds, axis=1)\n",
    "print(preds_classes.shape, test_labels.shape)"
   ]
  },
  {
   "cell_type": "markdown",
   "metadata": {
    "id": "lbPDW8BHIA2S"
   },
   "source": [
    "### <font color ='#4F1787'>Text Content Prediction of Moods(Emotion)</font> "
   ]
  },
  {
   "cell_type": "code",
   "execution_count": 163,
   "metadata": {
    "colab": {
     "base_uri": "https://localhost:8080/"
    },
    "id": "rh638vHG5ej6",
    "outputId": "aa8f053a-58c8-4175-d517-e7121080ab69"
   },
   "outputs": [
    {
     "name": "stdout",
     "output_type": "stream",
     "text": [
      "Tweet: i feel that an input from me will be valued as being less potent than say that of irfan pathan\n",
      "Actual Emotion: 1\n",
      "anger\n",
      "\u001b[1m1/1\u001b[0m \u001b[32m━━━━━━━━━━━━━━━━━━━━\u001b[0m\u001b[37m\u001b[0m \u001b[1m0s\u001b[0m 21ms/step\n",
      "Predicted Emotion: 1\n",
      "anger \n",
      "\n",
      "Tweet: i usually end up sitting at my desk feeling like i m at work but just doing unimportant tasks or browsing the internet\n",
      "Actual Emotion: 0\n",
      "sadness\n",
      "\u001b[1m1/1\u001b[0m \u001b[32m━━━━━━━━━━━━━━━━━━━━\u001b[0m\u001b[37m\u001b[0m \u001b[1m0s\u001b[0m 33ms/step\n",
      "Predicted Emotion: 0\n",
      "sadness \n",
      "\n",
      "Tweet: i forced myself to keep going back even though they made me feel consistently uncomfortable but after a while i just gave up as i saw no point\n",
      "Actual Emotion: 4\n",
      "fear\n",
      "\u001b[1m1/1\u001b[0m \u001b[32m━━━━━━━━━━━━━━━━━━━━\u001b[0m\u001b[37m\u001b[0m \u001b[1m0s\u001b[0m 20ms/step\n",
      "Predicted Emotion: 4\n",
      "fear \n",
      "\n",
      "Tweet: i mentioned in my last blog that i have started to get the feeling that i have been pressured into studying things i do not like which has also made me into a person i might not fully be\n",
      "Actual Emotion: 4\n",
      "fear\n",
      "\u001b[1m1/1\u001b[0m \u001b[32m━━━━━━━━━━━━━━━━━━━━\u001b[0m\u001b[37m\u001b[0m \u001b[1m0s\u001b[0m 23ms/step\n",
      "Predicted Emotion: 4\n",
      "fear \n",
      "\n",
      "Tweet: i love the fact that i look as best i can and i feel terrific because i eat right and constantly exercise\n",
      "Actual Emotion: 1\n",
      "anger\n",
      "\u001b[1m1/1\u001b[0m \u001b[32m━━━━━━━━━━━━━━━━━━━━\u001b[0m\u001b[37m\u001b[0m \u001b[1m0s\u001b[0m 14ms/step\n",
      "Predicted Emotion: 1\n",
      "anger \n",
      "\n"
     ]
    }
   ],
   "source": [
    "for a in range(0, 5):\n",
    "    i = random.randint(0, len(test_labels) - 1)\n",
    "\n",
    "    print('Tweet:', test_tweets[i])\n",
    "    print('Actual Emotion:', index_to_classes[test_labels[i]])\n",
    "    l=index_to_classes[test_labels[i]]\n",
    "    e=label_to_emotion[l]\n",
    "    print(e)\n",
    "\n",
    "    prediction = model.predict(np.expand_dims(test_sequences[i], axis=0))[0]\n",
    "    predicted_class = np.argmax(prediction)\n",
    "\n",
    "    print('Predicted Emotion:', index_to_classes.get(predicted_class))\n",
    "    p=index_to_classes.get(predicted_class)\n",
    "    pr=label_to_emotion[l]\n",
    "    print(pr,'\\n')"
   ]
  },
  {
   "cell_type": "markdown",
   "metadata": {
    "id": "_i9LUUDsiJIW"
   },
   "source": [
    "## <font color ='4F1787'>Conclusion</font>"
   ]
  },
  {
   "cell_type": "markdown",
   "metadata": {
    "id": "MB3T_83bIA2S"
   },
   "source": [
    "By leveraging natural language processing and sentiment analysis techniques, this method tailors recommendations based on the emotional resonance of content with individual users. It enhances user experience by providing suggestions aligned with their emotional preferences and helps in discovering relevant content that resonates deeply. However, challenges such as accurately capturing and interpreting emotional nuances, as well as addressing privacy concerns related to emotional data, underscore the need for further research and ethical considerations in implementing content-based emotion filtering systems."
   ]
  },
  {
   "cell_type": "code",
   "execution_count": null,
   "metadata": {},
   "outputs": [],
   "source": []
  }
 ],
 "metadata": {
  "accelerator": "GPU",
  "colab": {
   "provenance": []
  },
  "kernelspec": {
   "display_name": "Python 3 (ipykernel)",
   "language": "python",
   "name": "python3"
  },
  "language_info": {
   "codemirror_mode": {
    "name": "ipython",
    "version": 3
   },
   "file_extension": ".py",
   "mimetype": "text/x-python",
   "name": "python",
   "nbconvert_exporter": "python",
   "pygments_lexer": "ipython3",
   "version": "3.12.4"
  }
 },
 "nbformat": 4,
 "nbformat_minor": 4
}
