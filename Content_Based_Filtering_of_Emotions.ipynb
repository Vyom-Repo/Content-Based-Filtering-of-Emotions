{
 "cells": [
  {
   "cell_type": "markdown",
   "metadata": {},
   "source": [
    "<h1 style=\"text-align: center; color:#1C1678\">Content Based Filtering of Emotions</h1>"
   ]
  },
  {
   "cell_type": "markdown",
   "metadata": {},
   "source": [
    "## <font color='4F1787'> Description</font>"
   ]
  },
  {
   "cell_type": "markdown",
   "metadata": {},
   "source": [
    "Content-based filtering of emotions is a personalized recommendation approach that leverages the emotional content of items to make recommendations to users. Unlike collaborative filtering, which relies on user-item interactions, content-based filtering focuses on the intrinsic features of items and users' emotional preferences. By analyzing the emotional tone, sentiment, and context of content, this method tailors recommendations to match users' emotional states and preferences. It involves techniques such as sentiment analysis, natural language processing, and emotional profiling to understand the emotional resonance of content. Content-based filtering of emotions aims to enhance user satisfaction and engagement by delivering emotionally relevant recommendations tailored to individual preferences.\r\n",
    "\r\n",
    "\r\n"
   ]
  },
  {
   "cell_type": "markdown",
   "metadata": {},
   "source": [
    "## <font color ='4F1787'>Problem Statement </font>"
   ]
  },
  {
   "cell_type": "markdown",
   "metadata": {},
   "source": [
    "Develop a content-based recommendation system that accurately identifies and filters content based on the emotional tone or sentiment expressed within the content. The system should analyze textual data (such as social media posts, articles, reviews, etc.) and categorize the content into predefined emotional categories (such as joy, sadness, anger, fear, surprise, etc.). The goal is to create a model that can be used to recommend content that matches a user's current emotional state or to filter out content with certain emotional tones for improved user experience"
   ]
  },
  {
   "cell_type": "markdown",
   "metadata": {},
   "source": [
    "### <font color ='#4F1787'>Importing Libraries</font>"
   ]
  },
  {
   "cell_type": "code",
   "execution_count": 7,
   "metadata": {
    "id": "yKFjWz6e5eiH"
   },
   "outputs": [],
   "source": [
    "%matplotlib inline\n",
    "import pandas as pd\n",
    "import seaborn  as sns\n",
    "import tensorflow as tf\n",
    "import numpy as np\n",
    "import matplotlib.pyplot as plt\n",
    "import nlp\n",
    "import random\n"
   ]
  },
  {
   "cell_type": "markdown",
   "metadata": {},
   "source": [
    "Importing various libraries for data manipulation, visualization, deep learning, natural language processing, and random number generation"
   ]
  },
  {
   "cell_type": "code",
   "execution_count": 9,
   "metadata": {
    "id": "826tQBp5zlb1"
   },
   "outputs": [],
   "source": [
    "import warnings\n",
    "warnings.filterwarnings('ignore')"
   ]
  },
  {
   "cell_type": "markdown",
   "metadata": {},
   "source": [
    "Suppresses all warning messages"
   ]
  },
  {
   "cell_type": "markdown",
   "metadata": {
    "id": "nvfVk2GNiJH5"
   },
   "source": [
    "### <font color ='#4F1787'>Importing the Dataset</font> "
   ]
  },
  {
   "cell_type": "code",
   "execution_count": 12,
   "metadata": {
    "colab": {
     "base_uri": "https://localhost:8080/",
     "height": 342,
     "referenced_widgets": [
      "34ce67545af640338c2e45faf2650280",
      "a875b7badee144fb813b327c606f545d",
      "293bae3ebb4c441a8754e0079207525e",
      "691f56bfe2a9416fbdc502299980a72c",
      "ad1a1a98277140159597ef58d8c6a7cf",
      "e0e489347bf84eaa9e6736345796531e",
      "40ebf6be0eae475f80a4e95a42cb4daa",
      "9c730a7e068e457ca022b4a894a09a50",
      "30dd749c33a64eef957e3a3707a452d3",
      "22400b87b53c4330beb0312099dd2df0",
      "a7eecfb1ec74405db3ece070f0e90c75",
      "ff88935971644df1a1a8e8b19dfb0b40",
      "6fe32259eab64bc390880756b92604eb",
      "44457c66b4b646588d4a410b16638348",
      "3e84f0639d724728b12119f061fad032",
      "605b35fa125b42058498f468d19673b5",
      "f1af1d8a7c664c148cea0182a04ccde9",
      "0d9c55de07d24f8aa6b4f158de5b652c",
      "b53f977d035247008b5c64f99bbc3bd8",
      "709d672eca9f482296cf374e7b76845c",
      "674a43ccdfaa450da2cb7c0f9211a015",
      "6ca20d607e4446bba3569fbc59ebc9e5",
      "14685c5bf31a46b2b8a25e8c54e8bf11",
      "fc3865ada9874c0c943ac6a1cc27440a",
      "643a82a9cd1647c7bec72b193f962918",
      "752a64be75fa4dbabe89195495b1fec3",
      "d0dfb8e00d484e5cb1665a800fa2ac3a",
      "03b4ce1797e74e93bb06c37754ac5e9d",
      "be6259e1a31f40659caefeb58a64bc7e",
      "a235387c398e4d1cab2357f77ccfecaa",
      "33e3657c28dc46dca4b0de5108525b07",
      "a707ea427621483894d88c65153ee9d1",
      "e75566c54bd64f03835d2c4a01308ead",
      "f95d899e6d204500a1f0c2d9fd5e1f29",
      "afa2cdbc58b84ad6a47b1227320a3ab4",
      "a842d628f1c14d38b5eb97ceb1d3ee6d",
      "93a8c8d32807489897f3de3b346bd75e",
      "1a167cc1c7c5424390daeef688cb6fe8",
      "c0577dede98243109131765307992f9d",
      "0ffe701d471d49859c63eba763bfb149",
      "1a3ee52a06b04007adf3f6316146bb57",
      "74b822dcf74d42e4980df136c2ae678c",
      "e44979fabb774e2aa43fe9d69d61252c",
      "0a9a43b759f84eba837a65fa6b8f5b1c",
      "df61f9f8e1c446539e14abff3312f7bb",
      "165b8853010d484496c30fffa0ef5829",
      "e24a7e6e565b438796b74a6d7a875b37",
      "2c612b75986d48f39e521e2702edd657",
      "cedd341a7bf34e9ab6f5635e739d6bb6",
      "75776a5d595f42efa4c2fb8b28627bfb",
      "7d0a7e1f138d46429b9a26dfd051acb2",
      "23c6b292360f40eaaa2f85d10492d490",
      "a3113489080148c4893dfd20870b211e",
      "1f840d8e22cb410e940dd20a3aeb58c2",
      "7708a49b8e88497c9232ab49d411219a",
      "8f9c10a7b44d412f94c40b3bcd3d4ce4",
      "f4168ede76c845c7a5106fde9eaec5da",
      "5fc1df04d18948c0b87be10379ea51f3",
      "63459b39dc2b4cbca3f1fdaeb992a6ab",
      "a92791e4afcf4c03af792bc0fb2b120e",
      "700993c236754b2788db60f61c0a62c9",
      "9581dcfcdbf843abae1894341db61fe8",
      "3c3a644f36544640ab2255db0ec1f55c",
      "77fffd82779143d09bedc6bce25aada4",
      "e4d0fa0a68744b13ab29ebcf02403e5e"
     ]
    },
    "id": "0YHOvjAu5eiL",
    "outputId": "411eb4c0-7fd8-4c15-f388-85a530564000"
   },
   "outputs": [],
   "source": [
    "from datasets import load_dataset\n",
    "dataset = load_dataset(\"emotion\",trust_remote_code=True)"
   ]
  },
  {
   "cell_type": "markdown",
   "metadata": {},
   "source": [
    "#### <font color ='navy'>Displaying the data sets"
   ]
  },
  {
   "cell_type": "code",
   "execution_count": 14,
   "metadata": {
    "colab": {
     "base_uri": "https://localhost:8080/"
    },
    "id": "jpi1dL1wiJH8",
    "outputId": "092914bf-923f-4bb4-86c8-ca295b0b851b"
   },
   "outputs": [
    {
     "data": {
      "text/plain": [
       "DatasetDict({\n",
       "    train: Dataset({\n",
       "        features: ['text', 'label'],\n",
       "        num_rows: 16000\n",
       "    })\n",
       "    validation: Dataset({\n",
       "        features: ['text', 'label'],\n",
       "        num_rows: 2000\n",
       "    })\n",
       "    test: Dataset({\n",
       "        features: ['text', 'label'],\n",
       "        num_rows: 2000\n",
       "    })\n",
       "})"
      ]
     },
     "execution_count": 14,
     "metadata": {},
     "output_type": "execute_result"
    }
   ],
   "source": [
    "dataset"
   ]
  },
  {
   "cell_type": "markdown",
   "metadata": {},
   "source": [
    "#### <font color ='navy'>Creating the variables of each dataset"
   ]
  },
  {
   "cell_type": "code",
   "execution_count": 16,
   "metadata": {
    "id": "z7eCnxU25eiN"
   },
   "outputs": [],
   "source": [
    "train = dataset['train']\n",
    "val = dataset['validation']\n",
    "test = dataset['test']"
   ]
  },
  {
   "cell_type": "markdown",
   "metadata": {},
   "source": [
    "### <font color ='#4F1787'>Exploratory Data Analysis (EDA)</font> "
   ]
  },
  {
   "cell_type": "markdown",
   "metadata": {},
   "source": [
    "#### <font color ='navy'>Converting datasets to pandas DataFrames for easier EDA"
   ]
  },
  {
   "cell_type": "code",
   "execution_count": 19,
   "metadata": {},
   "outputs": [],
   "source": [
    "train_df = pd.DataFrame(train)\n",
    "val_df = pd.DataFrame(val)\n",
    "test_df = pd.DataFrame(test)"
   ]
  },
  {
   "cell_type": "markdown",
   "metadata": {},
   "source": [
    "#### <font color ='navy'>Basic Dataset Information"
   ]
  },
  {
   "cell_type": "code",
   "execution_count": 21,
   "metadata": {},
   "outputs": [
    {
     "name": "stdout",
     "output_type": "stream",
     "text": [
      "Train Dataset Shape: (16000, 2)\n",
      "Validation Dataset Shape: (2000, 2)\n",
      "Test Dataset Shape: (2000, 2)\n"
     ]
    }
   ],
   "source": [
    "print(\"Train Dataset Shape:\", train_df.shape)\n",
    "print(\"Validation Dataset Shape:\", val_df.shape)\n",
    "print(\"Test Dataset Shape:\", test_df.shape)"
   ]
  },
  {
   "cell_type": "code",
   "execution_count": 22,
   "metadata": {},
   "outputs": [
    {
     "name": "stdout",
     "output_type": "stream",
     "text": [
      "Train Dataset Summary:\n",
      "               label\n",
      "count  16000.000000\n",
      "mean       1.565937\n",
      "std        1.501430\n",
      "min        0.000000\n",
      "25%        0.000000\n",
      "50%        1.000000\n",
      "75%        3.000000\n",
      "max        5.000000\n"
     ]
    }
   ],
   "source": [
    "print(\"Train Dataset Summary:\\n\", train_df.describe())"
   ]
  },
  {
   "cell_type": "markdown",
   "metadata": {},
   "source": [
    "The train dataset has a mean label of approximately 1.57, indicating a distribution skewed towards lower values, with labels ranging from 0 to 5."
   ]
  },
  {
   "cell_type": "markdown",
   "metadata": {},
   "source": [
    "#### <font color ='navy'>Missing Values Check"
   ]
  },
  {
   "cell_type": "code",
   "execution_count": 25,
   "metadata": {},
   "outputs": [
    {
     "name": "stdout",
     "output_type": "stream",
     "text": [
      "Missing Values in Train Dataset:\n",
      " text     0\n",
      "label    0\n",
      "dtype: int64\n"
     ]
    }
   ],
   "source": [
    "print(\"Missing Values in Train Dataset:\\n\", train_df.isnull().sum())"
   ]
  },
  {
   "cell_type": "markdown",
   "metadata": {},
   "source": [
    "There are no missing values in training dataset"
   ]
  },
  {
   "cell_type": "markdown",
   "metadata": {},
   "source": [
    "#### <font color ='navy'>Emotion Distribution in Train Dataset"
   ]
  },
  {
   "cell_type": "code",
   "execution_count": 28,
   "metadata": {},
   "outputs": [
    {
     "data": {
      "image/png": "[encoded data removed]",
      "text/plain": [
       "<Figure size 1000x600 with 1 Axes>"
      ]
     },
     "metadata": {},
     "output_type": "display_data"
    }
   ],
   "source": [
    "plt.figure(figsize=(10, 6))\n",
    "sns.countplot(x='label', data=train_df)\n",
    "plt.title('Distribution of Emotions in Train Dataset')\n",
    "plt.show()"
   ]
  },
  {
   "cell_type": "markdown",
   "metadata": {},
   "source": [
    "The plot reveals the representation of each emotion in the dataset"
   ]
  },
  {
   "cell_type": "markdown",
   "metadata": {},
   "source": [
    "#### <font color ='navy'>Text Length Analysis in Train Dataset"
   ]
  },
  {
   "cell_type": "code",
   "execution_count": 31,
   "metadata": {},
   "outputs": [
    {
     "data": {
      "image/png": "[encoded data removed]",
      "text/plain": [
       "<Figure size 1000x600 with 1 Axes>"
      ]
     },
     "metadata": {},
     "output_type": "display_data"
    }
   ],
   "source": [
    "text_length = train_df['text'].apply(len)\n",
    "plt.figure(figsize=(10, 6))\n",
    "sns.histplot(text_length, bins=50 )\n",
    "plt.title('Distribution of Text Lengths in Train Dataset')\n",
    "plt.xlabel('Text Length')\n",
    "plt.ylabel('Frequency')\n",
    "plt.show()"
   ]
  },
  {
   "cell_type": "markdown",
   "metadata": {},
   "source": [
    "The distribution of text lengths in the train dataset shows that most texts are between 50 to 100 characters long, with a right-skewed distribution indicating fewer texts with lengths exceeding 150 characters."
   ]
  },
  {
   "cell_type": "markdown",
   "metadata": {},
   "source": [
    "### <font color ='#4F1787'>Data Preprocessing</font> "
   ]
  },
  {
   "cell_type": "markdown",
   "metadata": {},
   "source": [
    "#### <font color ='navy'>Creating a function named get_tweets and data is passed as a parameter"
   ]
  },
  {
   "cell_type": "code",
   "execution_count": 35,
   "metadata": {
    "id": "oDYXMfZy5eiP"
   },
   "outputs": [],
   "source": [
    "def get_tweets(data):\n",
    "\n",
    "    #creating two empty lists i.e., tweets and labels\n",
    "    tweets = [x['text'] for x in data]\n",
    "    labels = [x['label'] for x in data]\n",
    "    return tweets, labels"
   ]
  },
  {
   "cell_type": "markdown",
   "metadata": {},
   "source": [
    "For each dictionary, we retrieve the value associated with the key 'text' and append it to tweets list. <br>\n",
    "For each dictionary, we retrieve the value associated with the key 'label' and append it to label list."
   ]
  },
  {
   "cell_type": "markdown",
   "metadata": {},
   "source": [
    "#### <font color ='navy'>labeling the emotions by number in a dictionary format"
   ]
  },
  {
   "cell_type": "code",
   "execution_count": 38,
   "metadata": {
    "id": "u9zJ1-r0IA2F",
    "outputId": "f3208859-92b6-464b-b831-969ebce2d7de"
   },
   "outputs": [
    {
     "name": "stdout",
     "output_type": "stream",
     "text": [
      "{0, 1, 2, 3, 4, 5}\n",
      "{0: 'sadness', 1: 'anger', 2: 'love', 3: 'surprise', 4: 'fear', 5: 'joy'}\n"
     ]
    }
   ],
   "source": [
    "label_to_emotion = {\n",
    "    0: 'sadness',\n",
    "    1: 'anger',\n",
    "    2: 'love',\n",
    "    3: 'surprise',\n",
    "    4: 'fear',\n",
    "    5: 'joy'\n",
    "}\n",
    "\n",
    "# Get the tweets and labels from train variable\n",
    "tweets, labels = get_tweets(train)\n",
    "\n",
    "# Print the set of integer labels\n",
    "print(set(labels))\n",
    "\n",
    "# Convert the integer labels to emotion names\n",
    "emotions = [label_to_emotion[label] for label in labels]\n",
    "# Print the set of emotion names\n",
    "print(label_to_emotion)"
   ]
  },
  {
   "cell_type": "markdown",
   "metadata": {},
   "source": [
    "#### <font color ='navy'>Displaying all the tweets"
   ]
  },
  {
   "cell_type": "code",
   "execution_count": 40,
   "metadata": {
    "id": "wnZ3YH7PIA2G",
    "outputId": "a43312f7-1b83-4d20-d49a-f2515b6395fb",
    "scrolled": true
   },
   "outputs": [
    {
     "data": {
      "text/plain": [
       "['i didnt feel humiliated',\n",
       " 'i can go from feeling so hopeless to so damned hopeful just from being around someone who cares and is awake',\n",
       " 'im grabbing a minute to post i feel greedy wrong',\n",
       " 'i am ever feeling nostalgic about the fireplace i will know that it is still on the property',\n",
       " 'i am feeling grouchy',\n",
       " 'ive been feeling a little burdened lately wasnt sure why that was',\n",
       " 'ive been taking or milligrams or times recommended amount and ive fallen asleep a lot faster but i also feel like so funny',\n",
       " 'i feel as confused about life as a teenager or as jaded as a year old man',\n",
       " 'i have been with petronas for years i feel that petronas has performed well and made a huge profit',\n",
       " 'i feel romantic too',\n",
       " 'i feel like i have to make the suffering i m seeing mean something',\n",
       " 'i do feel that running is a divine experience and that i can expect to have some type of spiritual encounter',\n",
       " 'i think it s the easiest time of year to feel dissatisfied',\n",
       " 'i feel low energy i m just thirsty',\n",
       " 'i have immense sympathy with the general point but as a possible proto writer trying to find time to write in the corners of life and with no sign of an agent let alone a publishing contract this feels a little precious',\n",
       " 'i do not feel reassured anxiety is on each side',\n",
       " 'i didnt really feel that embarrassed',\n",
       " 'i feel pretty pathetic most of the time',\n",
       " 'i started feeling sentimental about dolls i had as a child and so began a collection of vintage barbie dolls from the sixties',\n",
       " 'i now feel compromised and skeptical of the value of every unit of work i put in',\n",
       " 'i feel irritated and rejected without anyone doing anything or saying anything',\n",
       " 'i am feeling completely overwhelmed i have two strategies that help me to feel grounded pour my heart out in my journal in the form of a letter to god and then end with a list of five things i am most grateful for',\n",
       " 'i have the feeling she was amused and delighted',\n",
       " 'i was able to help chai lifeline with your support and encouragement is a great feeling and i am so glad you were able to help me',\n",
       " 'i already feel like i fucked up though because i dont usually eat at all in the morning',\n",
       " 'i still love my so and wish the best for him i can no longer tolerate the effect that bm has on our lives and the fact that is has turned my so into a bitter angry person who is not always particularly kind to the people around him when he is feeling stressed',\n",
       " 'i feel so inhibited in someone elses kitchen like im painting on someone elses picture',\n",
       " 'i become overwhelmed and feel defeated',\n",
       " 'i feel kinda appalled that she feels like she needs to explain in wide and lenghth her body measures etc pp',\n",
       " 'i feel more superior dead chicken or grieving child',\n",
       " 'i get giddy over feeling elegant in a perfectly fitted pencil skirt',\n",
       " 'i remember feeling acutely distressed for a few days',\n",
       " 'i have seen heard and read over the past couple of days i am left feeling impressed by more than a few companies',\n",
       " 'i climbed the hill feeling frustrated that id pretty much paced entirely wrong for this course and that a factor that has never ever hampered me had made such a dent in the day',\n",
       " 'i can t imagine a real life scenario where i would be emotionally connected enough with someone to feel totally accepted and safe where it it morally acceptable for me to have close and prolonged physical contact and where sex won t be expected subsequently',\n",
       " 'i am not sure what would make me feel content if anything',\n",
       " 'i have been feeling the need to be creative',\n",
       " 'i do however want you to know that if something someone is causing you to feel less then your splendid self step away from them',\n",
       " 'i feel a bit rude writing to an elderly gentleman to ask for gifts because i feel a bit greedy but what is christmas about if not mild greed',\n",
       " 'i need you i need someone i need to be protected and feel safe i am small now i find myself in a season of no words',\n",
       " 'i plan to share my everyday life stories traveling adventures inspirations and handmade creations with you and hope you will also feel inspired',\n",
       " 'i already have my christmas trees up i got two and am feeling festive which i m sure is spurring me to get started on this book',\n",
       " 'ive worn it once on its own with a little concealer and for the days im feeling brave but dont want to be pale then its perfect',\n",
       " 'i feel very strongly passionate about when some jerk off decides to poke and make fun of us',\n",
       " 'i was feeling so discouraged we are already robbing peter to pay paul to get our cow this year but we cant afford to not get the cow this way',\n",
       " 'i was feeling listless from the need of new things something different',\n",
       " 'i lost my special mind but don t worry i m still sane i just wanted you to feel what i felt while reading this book i don t know how many times it was said that sam was special but i can guarantee you it was many more times than what i used in that paragraph did i tell you she was special',\n",
       " 'i can t let go of that sad feeling that i want to be accepted here in this first home of mine',\n",
       " 'on a boat trip to denmark',\n",
       " 'i stopped feeling cold and began feeling hot',\n",
       " 'i need to feel the dough to make sure its just perfect',\n",
       " 'i found myself feeling a little discouraged that morning',\n",
       " 'i feel selfish and spoiled',\n",
       " 'i was stymied a little bit as i wrote feeling unsure that i might go somewhere with the story unintended',\n",
       " 'i bag qaf look who s cryin now jacynthe lookin good feelin gorgeous rupaul the skins scissor sisters valentine the sun fed up kayle who s your daddy gerling awake the unkind u',\n",
       " 'i feel you know basically like a fake in the realm of science fiction',\n",
       " 'i hate living under my dads roof because it gives him an excuse to be an asshole to me because hes providing for me to live here i think he feels that he needs to make me feel as unwelcome as possible so ill leave',\n",
       " 'i keep feeling pleasantly surprised at his supportiveness and also his ease in new situations',\n",
       " 'i have this feeling that if i have anymore vigorous sexual activity in the coming yes i misspelt that as cumming days parts of me will begin to fall off',\n",
       " 'i feel my mom s graceful warm loving smile as i rob the time to nurture myself and heal',\n",
       " 'i feel in they talk the brother in law is extremely popular the one that had no me to think is so stiff',\n",
       " 'i ate i could feel a gentle tingle throughout almost as if i was feeling the healing taking place at a cellular level',\n",
       " 'i feel like we are pressured into being young beautiful thin and depending on the trend having the girls rejuvenated or butt implants',\n",
       " 'i began having them several times a week feeling tortured by the hallucinations moving people and figures sounds and vibrations',\n",
       " 'i am now nearly finished the week detox and i feel amazing',\n",
       " 'i feel selfish as i read back to my former posts how i have never asked for prayers for others how i never considered that there may be others out there that deserve their prayers answered before my own',\n",
       " 'i know the pain parents feel when an enraged child becomes violent',\n",
       " 'i have been on a roller coaster of emotions over these supposed feelings that something unpleasant was coming',\n",
       " 'i suppose my own truth needs to be shared i havent been feeling very faithful lately ive dwelled more in doubt and uncertainty than i have in faith',\n",
       " 'i was feeling brave when i bought it and clearly when i was doing my makeup',\n",
       " 'i am feeling miserable but c i am also the proudest mum on earth',\n",
       " 'i figure my family loves us no matter what but around anyone else i feel embarrassed when michelle goes ballistic',\n",
       " 'i don t necessarily think f bombs and sex are necessary in all stories but i feel reassured when i see them in print journals',\n",
       " 'i can feel my ovaries aching talking to me as i like to put it',\n",
       " 'i didn t feel like doing much chris and i mostly just took too many pictures of unimportant stuff',\n",
       " 'im tired of the book and ready to have it out of here and finding out that i was given unsuitable images and then feeling blamed for the result did not sit well',\n",
       " 'i did successfully manage to stretch a mxm canvas i feel that this is an achievement in itself for me and was a worthwhile usage of my money and time i will use the canvas for future briefs',\n",
       " 'i think feelings are one of nay the most important things we have',\n",
       " 'i feel completely honored to be an influence to this young talented fully alive beautiful girl woman',\n",
       " 'i feel angered and firey',\n",
       " 'i feel like a miserable piece of garbage',\n",
       " 'i feel like i need to make a list leanne would be appalled at the thought so that i dont miss anything',\n",
       " 'i drove dannika to school i was feeling a little bit rushed and this is what greeted me as i turned the corner',\n",
       " 'i remember feeling so hellip furious with the shooter',\n",
       " 'i feel very happy and excited since i learned so many things',\n",
       " 'i feel that at shows and around show horses people are trusting and relaxed because most show horses are safe and quiet and are handled frequently',\n",
       " 'i only have a couple of things left to make and at the start of december i am done and feeling smug',\n",
       " 'i think about how u could make me feel and realize that everything will be ok',\n",
       " 'i feel so worthless during those times i was struggling finding work',\n",
       " 'i will be able to lay on my bed in the dark and not feel terrified at least for a while',\n",
       " 'i was ready to meet mom in the airport and feel her ever supportive arms around me',\n",
       " 'im feeling bitter today my mood has been strange the entire day so i guess its that',\n",
       " 'when my mums brother passed away after having been involved in a car accident he was bringing me a present as i had passed my form five exams with flying colours',\n",
       " 'i am letting go of the animosity that is towards anyone that i feel has wronged me',\n",
       " 'i talk to dogs as i feel they cannot understand words but they can read emotions and know how to be supportive i decided i should go home',\n",
       " 'i feel like throwing away the shitty piece of shit paper',\n",
       " 'im starting to feel wryly amused at the banal comedy of errors my life is turning into',\n",
       " 'i find every body beautiful and only want people to feel vital in their bodies',\n",
       " 'i hear are owners who feel victimized by their associations the associations attorneys or the property manager',\n",
       " 'i say goodbye to the fam theyre all sad a crying and i feel like a heartless bitch because hey im pretty excited to be flying for the first time and you know also to spend a year in another country',\n",
       " 'i wont let me child cry it out because i feel that loving her and lily when she was little was going to be opportunities that only lasted for those short few months',\n",
       " 'i alba i feel good and im fitting in',\n",
       " 'i feel excited about what im doing again i feel like i have a ton of catching up to do',\n",
       " 'i also know how good it feels to look back and see that i honored my word and that helps from the start',\n",
       " 'i mean really really hard works to obtain such a high technical skill in wushu feel kinda ashamed but somehow motivated when i saw kids doing wushu performances whole heartedly despite their tiredness',\n",
       " 'i feel like things are getting a little overwhelming a few spritz of this toner really helps calm and soothe me',\n",
       " 'i hope that you realize how such little effort is required to make a person feel better about themselves or their situation whether its me a family member a college or high school friend a neighbor down the street or even a complete stranger',\n",
       " 'i am feeling so festive today that i m even going to put the tree up as soon as i ve finished doing this and catching up with the week s goings ons on coronation street',\n",
       " 'finding out that i am not ill not seriously',\n",
       " 'i did alright in class but a combination of feeling unsuccessful being man handled the stress of late and my horrible week resulted in my almost crying after i finished grappling',\n",
       " 'i feel it rarely advances any worthwhile cause and i always stick to the rule of not posting anything online that i wouldnt be prepared to say to somebodys face',\n",
       " 'i am feeling all useful',\n",
       " 'i feel like some of you have pains and you cannot imagine becoming passionate about the group or the idea that is causing pain',\n",
       " 'i feel ugly i m more inclined to wear ratty jeans and a sweatshirt than a beautiful dress though i might still wear a pair of heels around my house to boost my self esteem ever so slightly but i definitely won t bother to buy a new pair',\n",
       " 'im not feeling homesick yet so im feeling alright about this',\n",
       " 'i dance i should feel pretty',\n",
       " 'i workout every morning before and feel fabulous for it',\n",
       " 'i feel all of this just from her eyes not from her touch or from her words but from her eyes i know that i can assuredly return this love and know that it shall not be in vain',\n",
       " 'i was feeling fabulous until friday morning when i started to get these awful cramps at work',\n",
       " 'i feel honoured to have been able to call them friends to share their brotherhood',\n",
       " 'i had begun to feel apprehensive when thick black rain clouds stormed into the sky above town',\n",
       " 'i had stated to her the reason i feel so fearful is because i feel unsafe',\n",
       " 'i didn t feel like getting shaken down by the tsa quite yet so i pulled off to the side at creative croissants for a lunch',\n",
       " 'i get into groups i feel really awkward and overcompensate by being too talkative or by getting really quiet',\n",
       " 'i am very excited to finally meet that companion that companion who will be with me at all times especially when i am lonely very lonely that companion who will never disappoint me that companion who will put his arms around me and make me feel loved',\n",
       " 'i feel they are pretty safe on my blog img src http s',\n",
       " 'i feel pretty eager to get it done as i have a fun plan for quilting it',\n",
       " 'i am feeling horny so i ask her that lets go home',\n",
       " 'i think if a poem doesn t put pressure on me i don t feel uncomfortable in the sense of feeling more than i can feel understanding more than i can understand loving more than i am able to be in love',\n",
       " 'i too feel as if i am a stranger in a strange land and i am raising my son in a place that is not his father s ancestral home',\n",
       " 'i left to the shower questioning what i feel she was gorgeous such a fantastic body so confident in her movement effortlessly graceful',\n",
       " 'i feel energetic and bouncy i m more than happy to go to the gym run around outside with my kids or take the pram for a long walk often i do all three in one day',\n",
       " 'i was still feeling strong',\n",
       " 'i didn t burst into tears or some other devastating release of feelings or thoughts because i seemed to know that rich also had to go through his own space without me just dumping on him',\n",
       " 'i wanted to get a pumpkin spice latte this morning but it was hot and the last thing i wanted was a hot coffee maybe i am feeling a little bitter',\n",
       " 'i suppose he feels badly because he was a bit skeptical of her pain over the last few months shes had a hyperchondria and exaggeration habit in the past though he never openly questioned her about it',\n",
       " 'i clench to the corners of the bed to feel assured',\n",
       " 'i also feel like i am being selfish in not being grateful for the life i do have and the amazing things in it',\n",
       " 'i called it god because i d seen god in a book and figured god was the right name for feeling so utterly affirmed and accepted without question',\n",
       " 'i don t know why perhaps because other girls in the office had nice short hair or perhaps i was just feeling rebellious',\n",
       " 'i do not feel miserable at all because my family is not the type that celebrates eid',\n",
       " 'i might go get a car wash if i am feeling really generous my car needs it',\n",
       " 'i still feel sleep deprived she is almost sleeping through the night giving us',\n",
       " 'i just feel really violent right now',\n",
       " 'i am bloging again i am sitting here feeling content with my dogs amp cat etc and i know that how lucky we are the truth is we',\n",
       " 'i started feeling funny and then friday i woke up sick as a dog',\n",
       " 'i feel a need to protect my parents against the witch hunt that repressed memory therapy can be',\n",
       " 'i feel disgusted to even be associated with this woman by my race and nationality',\n",
       " 'i laughed then bitterly again but i wasnt feeling bitter',\n",
       " 'i couldn t know what he was feeling then i thought that he wished he could have been there with us too for each of us knew that however much we hated it at first it was an experience we would remember forever',\n",
       " 'i was feeling quite mellow and i wanted a soft easy look to wear with my beginning of a cold',\n",
       " 'i told him that maybe i just need time to think how ive been feeling indecisive about things lately',\n",
       " 'i still feel it does the genre a disservice when stories are resolved artifically',\n",
       " 'i always know when i am feeling artistic when i write my name while i am in an artistic mood the i in manitz i draw a circle not a dot the bigger the dot the more artistic i am feeling and if it is just a line like an accent mark in spanish im pissed',\n",
       " 'i remember feeling really terrified when i was in brazil on a bus that was going up steep mountain hills on the side of the mountain in the middle of a big storm wondering if we were going to fall off',\n",
       " 'i could feel her whimper to the thought of being unloved and uncared for',\n",
       " 'im certainly not going to sit and tell you whats going on in my personal life but i feel that if you were ever curious about whats going in my life all youd have to do is watch the show',\n",
       " 'im sorry that there wasnt more humor in this post but im not feeling all that funny',\n",
       " 'i feel ive got my foot in the door of the fantastic world of walking and running the trails fells and mountains',\n",
       " 'i say whatever comes in my mind tell you directly what i feel a jealous girl not because i m insecure but because i just love that person a trust worthy friend sweet to the one i love',\n",
       " 'i feel strange coming back to work after my one day holiday',\n",
       " 'im clearly influenced by the dash happiness of emily dickinson for example and i use dashes instead of colons or semi colons to enhance the feelings of rushed enjambment in the sonnet',\n",
       " 'i am fatter because the only thing in my life that can remain under my control is whether or not i get to eat peanut butter on bread when i get home from an impossible day of to first world looking yet third world feeling hell of needy and neglected little girls',\n",
       " 'i could claim to redeem the genre but it didn t leave me feeling as entirely frustrated to the point of beating my head against a wall either',\n",
       " 'i feel so sad and hopeless',\n",
       " 'im getting the feeling that my classes are a little intimidated by the concept of a lit',\n",
       " 'i still feel groggy but i have to get up to do the routine for my son',\n",
       " 'i have a feeling my view isnt going to be very popular and thats fine',\n",
       " 'i want to hold this feeling of shocked awe and wonder forever',\n",
       " 'when i heard a rumour that the st year exam results were out i had fear that i might be one of the failures',\n",
       " 'i want to feel valued i do and appreciated i do and know the people who love me arent going anywhere even if the nature of the relationship changes',\n",
       " 'i know there are days in which you feel distracted',\n",
       " 'i use it regularly with relaxing music and always feel invigorated afterward',\n",
       " 'im feeling distracted i tend to practice with my eyes shut as much as possible',\n",
       " 'i feel like its perfect a w see youtube has its influences i even know trends',\n",
       " 'i specifically wanted tango was feeling shy and maks quite the opposite hard to get far enough away from him to get good pics lol',\n",
       " 'i also didn t feel very weird sleeping in my bed while the two of them slept in hers',\n",
       " 'i just wish okay so i was thinking about it earlier today and heres the thing being all cooped up amp restless has made me feel so needy',\n",
       " 'ive lost some weight such that i could fit into a tiny skirt that ive been unable to wear because i didnt feel confident in it until now',\n",
       " 'i hope to feel a bit more creative again soon and miss its presence in my life blog',\n",
       " 'i am no fan of the current president i am a conservative and it made me feel unwelcome',\n",
       " 'i will enclose her verses on her could not weigh much more thinking and feeling curious to hear the odd couple',\n",
       " 'i begin to feel complacent with my life here',\n",
       " 'i feel vulnerable and alone',\n",
       " 'i remember feeling inspired and thinking that it was a fine example of parenting',\n",
       " 'i feel like i m always the one getting punished for stupid things and i feel like i m being chastised for behaving',\n",
       " 'i really feel that my life is perfect right now and if it isnt too much to ask for i just hope that everything would stay the same',\n",
       " 'im there i simply feel contented',\n",
       " 'im not saying cut everyone out of your life but i feel its important to find comfort in solitude meditation or working on projects alone',\n",
       " 'i think im just being stupid feeling nervous',\n",
       " 'i feel honored by it',\n",
       " 'i was feeling an act of god at work in my life and it was an amazing feeling',\n",
       " 'i feel im like a bird flying in the air in a very carefree manner',\n",
       " 'i have to revise my replies over and over again in my mind just to make sure that the reply sounds appropriate enough and that the person who receive the reply will not feel offended',\n",
       " 'i felt sad when a friend of mine died and i felt that something had irrevocably gone away from me',\n",
       " 'i died would alex and matt feel regretful for not coming to visit',\n",
       " 'i feel that educating families and supporting and educationg mamas and papas is key',\n",
       " 'im sure its because when i am lost i feel like everyone is being hostile toward me and i hate that feeling',\n",
       " 'i feel like these are very boring sewing makes since they are so easy and there is nothing else to say about them than my fabric usage',\n",
       " 'i have always liked to use the original fragrance to freshen up and lightly scent my underwear drawer to feel gorgeously glamorous and girly',\n",
       " 'i feel like i talented young man i don t feel talented then i don t to work with',\n",
       " 'i feel curious about all this things around',\n",
       " 'i feel the reason were apart of each others lives is because im in his to help him become something to push him to succeed and be successful and happy',\n",
       " 'i feel now so uncomfortable with all of them i guess is me',\n",
       " 'i feel pretty mellow so far about whatever healing wounding process may be getting underway',\n",
       " 'i wonder sometimes whether i have just added to the antagonism and misunderstanding that many people have towards those of us who feel reluctant to wholeheartedly support the traditional armistice day remembrances',\n",
       " 'i legs would feel shitty for a few miles but would come around like they always do',\n",
       " 'i know its an unfair reaction but i have run out of ways to explain how i feel shaken is the best i can come up with right now',\n",
       " 'i seriously feel so blessed for the support that i have at home it s amazing',\n",
       " 'i feel abused and maligned but mostly tired of the nervous feeling anticipating danger',\n",
       " 'i am feeling pretty restless right now while typing this',\n",
       " 'i know gosman s is a touristy place to go if you are in the montauk area but infrequent visitors to this area want to head there for the harbor feel the gentle cawing of the seagulls lapping water against the wood pilings and relaxing breeze coming in off the water',\n",
       " 'i have to admit these hilarious e cards are seriously exactly how i feel i am so stressed out i feel at any moment i could start hy',\n",
       " 'i wrote last year when i was feeling more dull and inarticulate than normal',\n",
       " 'id kick myself into gear but i just feel irritable with no motivation what so ever',\n",
       " 'i feel as a child innocent feelings illustrating a',\n",
       " 'i have the satisfaction of feeling that i m no longer supporting or contributing to the looter driven consumerism that has made a walking corpse out of the america i so revered when i was younger',\n",
       " 'i will start to feel resentful',\n",
       " 'i will spend my vacation on me no obligations no headaches no feeling like i am being emotional blackmailed into being three places at once',\n",
       " 'i feel herpes coming i would be very surprised at this point if i make it out again after my checkup at the clinic on wednesday',\n",
       " 'i feel so fucked like everyday of my life',\n",
       " 'ive worked really hard all year to try to make each child in the class feel like they are valued',\n",
       " 'i am feeling disheartened with my words as of late',\n",
       " 'i didn t feel like i was being bitchy at the time but upon retrospect why wouldn t he think that i was trying to shake him off',\n",
       " 'i still second guess myself and still have a terrible time making definitive decisions but there are certain truths that i do know about myself and i feel assured by those truths',\n",
       " 'i don t feel like eggs benedict i ll have something equally delicious',\n",
       " 'im feeling my way through and trusting myself',\n",
       " 'im feeling inspired by all the summery elements of my favorite past time beach bummin',\n",
       " 'i can feel that she smiled i love you even more gorgeous',\n",
       " 'i continue to define and discover what home can mean here in amsterdam whenever i feel a pang of blank sickness it is more in line with missing the cultural mindset of american city life which is much different from the cultural mindset of amsterdam',\n",
       " 'i make an arcade i have a very simple purpose and that is to try to make it feel absolutely comfortable physically emotionally practically and absolutely',\n",
       " 'i can t say i feel all that sympathetic',\n",
       " 'i was feeling over eager and hopped on to the tube to ride the eye of london',\n",
       " 'i go online and i see a friend talking to another one and is not talking to me i feel ignored i feel unloved',\n",
       " 'i am not monitoring what i have to say about anything if you ever come across any of my blogs and feel offended please dont stop by here again',\n",
       " 'i feel like that s so weird that i had cancer that one time',\n",
       " 'i want to feel safe and well and that maybe just maybe theres a small chance my i can feel joy and my dreams can come true',\n",
       " 'im feeling cranky',\n",
       " 'i also think it is puzzling that after this particular administrator has singled me out for praise on my ability to get my students to read that he feels that ssr time is not a productive use of class time',\n",
       " 'i tried to fill it by befriending people that i knew were only using me but i didnt care because i needed to feel accepted even if it was by some complete loser',\n",
       " 'i feel stressed always',\n",
       " 'i remember feeling another cramp but i also ignored it',\n",
       " 'i hope i feel mellow well fed well slept at peace with myself within this external world',\n",
       " 'i have also learned it takes a lot of effort and positive thinking for me not to break down in tears over feeling exhausted and guilty for not being a better mom',\n",
       " 'im feeling awful because we hung out with my friend and her new baby the day before',\n",
       " 'i feel very relaxed and fine',\n",
       " 'i feel the suffering and i really feel the pain',\n",
       " 'i go to sleep i feel as if i m giving up precious time to do something else with my life',\n",
       " 'i feel like i ve been neglecting my beloved mom blog',\n",
       " 'i shalt say we did cos i din feel a thing when he wrote hw he is keen on xxx',\n",
       " 'i just feel terrified like im on the edge of a precipice staring ahead',\n",
       " 'i feel totally listless exams have come and gone and now i have a whole five or so months in front of me with no uni and free time',\n",
       " 'i feel furious that right to life advocates can and do tell me how to live and die through lobbying and supporting those politicians sympathic to their views',\n",
       " 'i feel as if i was abused in some way',\n",
       " 'im still paying attention but i feel distracted',\n",
       " 'i started the third block feeling hot and cold and tingly all at the same time knowing that i still had five hours of examination ahead of me having no idea if any of it would do any good',\n",
       " 'im hesitant to make suggestions because i feel as if the outcome would not be sincere',\n",
       " 'i feel not too terribly fond of the majority at this precise time',\n",
       " 'i can feel myself gaining control over the damaged goods aspects of my personal security',\n",
       " 'i was that i bombed that first interview i left the second interview feeling pretty fan freaking tastic',\n",
       " 'i think its kind of taken us this long to build up a good inventory of sauces oils spices and other non perishables to feel like we have a chance at making something delicious without having to specifically go out and buy every single item in a recipe',\n",
       " 'i now feel i can advise other dads whose children will soon become teenagers it s not cool to pull up to your kid s high school to pick them up in a smelly jalopy with plants coming out the windows',\n",
       " 'i feel victimized by the drag on our country with heads in the sand traditionalists i hesitate to call them conservatives for fear of offending real honest to god conservatives who still think the world was created years ago and that stuff like skeletal remains are some kind of hoax',\n",
       " 'i would feel lucky to call any of the materials and kits on your site mine they are just beautifully curated',\n",
       " 'i have been for my bloods which proved the reason i was feeling so lethargic and rubbish was that i am low on iron so i have now been prescribed iron tablets',\n",
       " 'i have my own mind and i feel like my mind is dangerous to my life',\n",
       " 'i feel like i love everyone or at least i am compassionate toward others',\n",
       " 'i feel as if i should be punished for neglecting you',\n",
       " 'i feel like it just doesnt capture the beauty of this lovely polish',\n",
       " 'i feel like i ve lost some of my main roots i feel less secure emotionally financially and socially',\n",
       " 'i feel like i should just bite the bullet and do it but every time i think about it i feel stressed because im not fully supported on my decisions',\n",
       " 'i know i have some obnoxiously immature sounding verbal tics and my voice is kind of nasal and i don t always come across like the sharpest tool in the shed especially when i m feeling awkward but there s knowing and there s knowing you know',\n",
       " 'id just had a terrible nightmare and was feeling a little disturbed',\n",
       " 'i didnt want to walk passed there just in case the customers feel disturbed',\n",
       " 'i want other sufferers to be able to find me in the hope that my battle can help them to feel that they are not alone',\n",
       " 'i am feeling exceptionally reluctant to go to school tomorrow even though its monday and the timetable is pretty good',\n",
       " 'i am so festive this feels so delicious wheeeeee what a great night',\n",
       " 'i am not looking forward to being beaten down to feeling like a disappointment to my husband or to the emotional pain',\n",
       " 'im sick of feeling crappy',\n",
       " 'i feel like i almost convinced myself this is going to be the pattern',\n",
       " 'i also wear them when im wearing a dress that makes me feel slutty feels like those antique underwears but obviously a little bit more edgy or maybe a little bit more than a little bit',\n",
       " 'i feel a perverse pride in my self control that i managed to stay where i was ordered and not reach for the tempting human flesh so close before us',\n",
       " 'i feel so impatient so easily annoyed so outraged by the blatant defiance that seems to be olivias most prominent characteristic these days',\n",
       " 'i was positively giddy when the kids left this morning after our very last official class of the year but now im feeling a little sad',\n",
       " 'i feel supportive of him i also cant help but feel jealous',\n",
       " 'i mainly like to text because i feel like i am so much more clever with the written word rather than the spoken',\n",
       " 'i seriouly feel i am not being respected i dont have my privacy i am being ordered around',\n",
       " 'i said in the words of a devotee that i feel relieved when i hear the your title as deen bandhu as i am the most fallen person but i become afraid at your title of uplifter of devotees as i don t consider myself to be a true devotee and hence unworthy to benefit from the aspect of your personality',\n",
       " 'i personalities that can feel pain and suffering',\n",
       " 'i guess i would feel more like joseph with walt trusting me to care for mother and over the finances which he did six months before he died there are times i want to defend my self but god makes me be quiet',\n",
       " 'i was warming up starting feeling a little lethargic',\n",
       " 'i feel excelent but sometimes theres just nothing to do especially since im not really keen on video games anymore i watch a bit of anime and some movies but theres just got to be more in my life',\n",
       " 'i wonder if this is what master is feeling i am r wanting and eager to please and i am master who could very much enjoy his my attentions but won t because it is wrong as i he has no desire to return his my affections',\n",
       " 'im feeling a little bit more positive now as things were quite hard at first as my savings were eaten up quickly with costs and i didnt want to become a burden to my boyfriend but weve come out the other end and im feeling brighter and more inspired about things to come',\n",
       " 'im just feeling rather sentimental right now and just have to say i feel so lucky to be maxs mom',\n",
       " 'i make myself show up and feel isolated in the crowd ill know i was wrong about the anti social feeling',\n",
       " 'ive learned how to turn off all my emotions more and more and i often find myself feeling completely blank while my mother is crying continuously over my suicidalness',\n",
       " 'i feel loyal to style',\n",
       " 'i can understand that you may feel youd rather not do your bit for the vulnerable and homeless in london in that precise way',\n",
       " 'i can finally stop feeling listless and like a waste of space',\n",
       " 'i know im feeling agitated as it is from a side effect of the too high dose',\n",
       " 'i do feel a shift in me to being more positive',\n",
       " 'i am feeling brave enough',\n",
       " 'fear of thief',\n",
       " 'i feel clever nov',\n",
       " 'i always spend more money there than i mean to and feel dissatisfied when i exit the store',\n",
       " 'im feeling really quite angry',\n",
       " 'i feel kerry didnt do by supporting civil unions and gay equality',\n",
       " 'i feel really ashamed',\n",
       " 'i feel to have these amazing people in my life',\n",
       " 'i finally left feeling judged and ridiculed because i am intelligent',\n",
       " 'i is starting to feel a bit insulted by this stranger',\n",
       " 'i have many days where i feel hopeless today the light at the end of my yellow brick road was shining just a little brighter',\n",
       " 'i actually feel sorrowful',\n",
       " 'i see women wearing boots i feel envious that i want to curse them',\n",
       " 'i will feel what i feel and tell you and together we will apologize and make up and keep loving each other to bits and bits',\n",
       " 'i go up to her and i say feeling very impressed with myself youre naomi klein right',\n",
       " 'i began to feel each of my senses dull until the cold black unconsciousness over came me',\n",
       " 'i suspect feel less than fond in private',\n",
       " 'i was so honoured that this young woman felt comfortable enough to ask me i had kind of a faux hawk thing going on back then so i must have looked dykey enough for her to feel safe talking to me',\n",
       " 'i do have to wonder when you re cast as a caveman and you re told you re perfect for the part do you feel insulted or complimented',\n",
       " 'i feel convinced plus so many diverse price tags that i feel sure everyone should come up with the funds to have their plot to be lighted up relatively economically',\n",
       " 'i feel empty when the baby isnt there',\n",
       " 'i stopped feeling so exhausted a href http provokingbeauty',\n",
       " 'im feeling font friendly',\n",
       " 'i had my hand on my beads consciously breathing consciously working to feel calm about my list of things to accomplish that afternoon',\n",
       " 'i always feel intimidated by other people especially when they always compare me to other people ever since i was young',\n",
       " 'i be made to feel rotten',\n",
       " 'i started feeling hostile and i am checking my hemorrhoids',\n",
       " 'i love wearing new shoes i just feel so glamourous and when i get a pair of designer shoes i love the box and all the trimmings that come with them',\n",
       " 'i know about have to do largely with the fact that any feelings romantic or sexual i have successfully hidden from myself',\n",
       " 'i just love the feeling of something warmly hugging you and feeling so precious and small precious to someone something',\n",
       " 'im feeling far more mellow than normal',\n",
       " 'i became more dismayed as i studied what people were wearing and started feeling like though some of the outfits were gorgeous they were bought that way',\n",
       " 'i dont want to wax them off and draw them in or anything i just need to not have a unibrow and maybe get rid of the few spare hairs creeping down toward my eyelid if im feeling brave',\n",
       " 'im feeling lucky width li style border px list style outside margin px px',\n",
       " 'i recall those high school feelings and the longing with which i watched the olympic runners i feel st',\n",
       " 'i woke up feeling confident and watched the bodypump dvd to gather some coaching tips and compulsory cues',\n",
       " 'i didnt say was that strong feelings always make me skeptical at first',\n",
       " 'i want to talk to you about but with the limited time we have on the phone and with our current arrangment i feel hesitant to bring it up',\n",
       " 'i am beginning to feel that theres a good chance i might pass',\n",
       " 'i feel like i have a little more control and can help sweet pea better if i know what is ahead',\n",
       " 'i feel like i m on the receiving end of a violent attack',\n",
       " 'i feel it is worthwhile to document it for people who are not familiar with batch files',\n",
       " 'i and i are feeling especially thankful for so many small blessings in our life right now',\n",
       " 'i am hoping the weatherman is right with his forecast of stay at home dont venture out rain for tomorrow i am feeling all kind of creative',\n",
       " 'i feel like im just on the edge in this microcosm one more awkward moment or missed party and id be on the outside',\n",
       " 'i feel a bit funny actually',\n",
       " 'i have learnt nothing else in the last two years it is that it s best to feel my way by trusting my instincts',\n",
       " 'i am feeling is also a blossoming eager anxiety',\n",
       " 'i feel burdened to share it',\n",
       " 'i always want nemo by my side and sleeping without her now feels weird even though it doesnt happen often that i get to',\n",
       " 'im not feeling the outfit but the heels are gorgeous',\n",
       " 'i feel confused after that',\n",
       " 'i feel that the session was useful and gave me tools i need to move forward in my life',\n",
       " 'i feel selfish bringing up our loneliness for a child when i know parents out in newtown are grieving their lost babies',\n",
       " 'i took away all the disappointed feeling all the paining i gave my heart to be heal by lord because he s the only one love who never betrayed never lose loyalty even i didn t loyal to him',\n",
       " 'i feel envious and embarrassed',\n",
       " 'i could feel the frantic need in him the need to make me his',\n",
       " 'i am feeling overwhelmed with the responsibilities of being a teacher that someone is trusting me with their most precious gift and it is an honor',\n",
       " 'i feel so tranquil right now its great',\n",
       " 'i feel frustrated when i have new music and new lyrics that clearly have nothing to do with each other',\n",
       " 'i thought we were going to talk and try and work at things so i was shocked to find out steve had decided he wanted to be on his own the thing that broke me was the feeling of been unloved',\n",
       " 'i wouldnt have beared witness to the incredibly well spoken bouncer making an emo kid feel completely unwelcome',\n",
       " 'i tend to stop breathing when i m feeling stressed',\n",
       " 'i was a smoker for years and quit weeks ago right after i finished your book and i cant believe how free i feel i knew that i had to quit but i was terrified of my life without cigarettes',\n",
       " 'i will go to my mailbox and talk to the mailman then the grocery clerk etc but no matter how small the step or how limited the risk a complete and total willingness to experience whatever thoughts feelings and sensations emerge is important',\n",
       " 'i am already feeling frantic',\n",
       " 'i feel like this insecurity is a good thing when i first started writing i pictured it all',\n",
       " 'i should feel complimented or insulted',\n",
       " 'i crave as i fall into submission and i did not feel submissive in the least',\n",
       " 'i feel tender just now and i am fine with that',\n",
       " 'i feel irritated pissed even like when someone wakes me up at that moment when i m on the edge of falling into a deep slumber',\n",
       " 'i made it to work but i am feeling a little groggy',\n",
       " 'i want to love you but i feel like there some sort of hindrance thats keeping me from loving you',\n",
       " 'i feel is that they are fond of themselves and ok second thought really sensitive to spelled everything here',\n",
       " 'ill get round to it this quarter im feeling hopeful about this one',\n",
       " 'im starting to feel unwelcome in life and some people can already tell this',\n",
       " 'i feel absolutely fantastic and i hope baby does too',\n",
       " 'i watched the snow fall and accumulate on the conifer trees while i was shoveling in my shirt sleeves and feeling vigorous',\n",
       " 'i feel bitter and just honkerblonked off in general',\n",
       " 'i have a feeling that your father already convinced him of that',\n",
       " 'i love and feel passionate about i m living my dream and now that i ve gotten a taste of what that feels like nothing can stop me',\n",
       " 'i play in the rain squeal with glee at the feeling of mud squishing between my toes and enjoy pretty much anything that takes place outdoors',\n",
       " 'i am feeling humorous i put cold callers on hold',\n",
       " 'i just busy myself with other stuffs but never with blogs or threads that will only make me feel miserable',\n",
       " 'i feel energized and curious again about life about god about my potential to give something back to society and about finding someone after my heart',\n",
       " 'i feel very privileged but it is also a lot of work',\n",
       " 'im pretty happy but a little on the nauseated side to feel thrilled',\n",
       " 'i close my eyes i can hear the pitiful wailing sounds of my own cries taste the salty taste of my tears and feel that anger and hurt saturating my heart',\n",
       " 'i bought a virtually fat free thousand islands and feeling very impressed with myself hold large quantities of this substance on the leaves of lettuce and cucumber with my friend but it will be total sugar becomes if you do not burn fat',\n",
       " 'im sure that the folks in virginia florida and the other handful of swing states agree feel not only put upon but insulted by the constant barrage',\n",
       " 'i feel like im putting an innocent man on death row',\n",
       " 'i wasn t sure what else to do to help her feel smart',\n",
       " 'i begin to feel that every waking moment is devoted to work',\n",
       " 'i feel is thankful for the lessons i m learning',\n",
       " 'i feel such a longing and sadness when i see families with more children than i have',\n",
       " 'i feel distinctly called in clermont to focus on these little ones that seem naughty',\n",
       " 'i hope you can feel glad that she gave you so many things including memories that you can cherish',\n",
       " 'i am feeling pretty worthless right now',\n",
       " 'i feel some of my projects are clever and useful enough i figured i would start sharing them on instructables so i wrote my first one this weekend',\n",
       " 'i had continued to think along those lines i probably would have done the dishes in anger and when he got up wed have had a fight about that with me feeling completely abused',\n",
       " 'i didnt feel especially nervous in finland but when we landed in paris i was a little unsure about what would be ahead of us thought st grade student janne suominen',\n",
       " 'i do feel envious of those with kids at certain moments',\n",
       " 'i was feeling like a pretty crappy mom',\n",
       " 'im feeling pissed off about my aac or feeling kind of miserable and frustrated with life this whole week',\n",
       " 'im not scared at all anymore im fine i feel terrific about the surgery',\n",
       " 'i still feel vulnerable around him',\n",
       " 'i honestly am not sure how i feel stunned',\n",
       " 'i feel when you are a caring person you attract other caring people into your life',\n",
       " 'im then left feeling quite embarrassed as i say that nothings new',\n",
       " 'i feel unwelcome and out of place buti cant decide if i am just too scared to do anything about this ok situation or if i am staying here in this dead end situation because i am afraid things will get worse',\n",
       " 'i may or may not have cried when thanking them for making my children feel so special and loved',\n",
       " 'i really want to go buy some yardage of art gallery just to play with because it feels so amazing',\n",
       " 'i feel like shes losing her sense of self to adapt to what she thinks he will be loyal to',\n",
       " 'i feel burdened for several loved ones and i miss my big kid whom i havent seen since friday',\n",
       " 'i feel is still really low in my abdomen',\n",
       " 'i feel like i ve been welcomed a tight knit family who ll make sure i won t feel alone ever',\n",
       " 'i feel this is doubtful',\n",
       " 'i usually use smaller legos however this year i have a few students with fine motor delays and i want all my students to feel successful',\n",
       " 'i get some exercise and feel like im doing something worthwhile in the meantime',\n",
       " 'i feel like my life is very rich and fulfilling but i know people look at the way i live and feel some misplaced pity for me',\n",
       " 'i feel blessed amazed and yes very excited',\n",
       " 'i feel hesitant about talking about this',\n",
       " 'i try to get in at least minutes a day five days a week though i have been known to skip a workout if i m feeling particularly lethargic or lazy',\n",
       " 'i have been feeling beaten down sick and utterly devoid of hope that i will ever have the life i want',\n",
       " 'i feel hesitant to comment because i don t want to add to a pileon but it seems clear to me that those involved haven t learned from their past experiences nor are they interested in applying that learning to future projects',\n",
       " 'i feel quite passionate about as communion is of tremendous importance to me personally and theologically',\n",
       " 'im feeling happy and well',\n",
       " 'i find myself having much more time to think about myself without feeling depressed to actually be able to write and imagine without feeling trapped or like i am missing out on something a near constant feeling i have in cities',\n",
       " 'i got the feeling brig is sincere and has a very strong desire to help others become successful both financially and also through building strengthening relationships through christianity',\n",
       " 'i feel like ive had to fake my feelings a lot more often then i would have liked to',\n",
       " 'i were feeling energetic so we decided we were going to bike to the rest of the temples',\n",
       " 'im really like she said only you can understand the way i feel toni ight she blamed excesses on the merican dream so seldom witnessed never er seen hah hah hah hah hah',\n",
       " 'i am happpy when i get good results in the field of academics or athletics',\n",
       " 'i dont know where i want to work because there will always be something that makes me feel stressed or anxious at work whatever the job may be as all jobs require some sort of rules or pressure',\n",
       " 'id pop out of the chair feeling like i should be doing something more worthwhile',\n",
       " 'i was really hoping that theyd get far enough ahead of us that we could feel like we were doing our own navigating so i was delighted when after punching the second control they headed off onto a trail through the woods',\n",
       " 'i feel like normally i would be angry because thats what i actually think that i could never be beautiful at my size',\n",
       " 'i wonder how many people are against my do it only when you feel like it perspective but i think if you do it for the sake of doing it without wanting to do it then it will turn out to be the result of crappy work',\n",
       " 'i feel indecisive on whether or not i feel the book huckleberry finn should be censored',\n",
       " 'i should have known she likes kamiki kun he laughs nozomi feels an unpleasant knot in her stomach you must think i m a fool don t you nonchan',\n",
       " 'i made the choice to start recognizing when that feeling of being unloved kicks in and to choose to keep my persistence at the same level not allowing that old reaction to shut me down',\n",
       " 'i feel like im more hated than celebrated and i cant wait till the day i can say i made it',\n",
       " 'i still feel funny writing that like maybe i should call her my spirit guide or really observant cheerleader or something',\n",
       " 'i would rather feel nothing than feel this then do not be surprised if you find your life very depressing and grey and unrewarding',\n",
       " 'i feel very comfortable with this decision',\n",
       " 'i get really sweaty during these episodes and my stomach will feel really funny like i m free falling',\n",
       " 'i have been feeling so overwhelmed lately',\n",
       " 'i learnt so much about the wonderful world of beaubronz and feel this lovely tanning brand fits perfectly with my latest mantra stolen from my boudoir lashes mother asma docrat',\n",
       " 'i feel rebellious because i don t particularly like watching romcoms but i get the feeling that i may be pretty good at writing them',\n",
       " 'i didnt feel that welcomed when i first entered morris quickly changed that and i left feeling very happy',\n",
       " 'im contemplating and feeling skeptical',\n",
       " 'ive become anxious about in recent times is this there is certainly a feeling amongst some people of belief that they are under siege that they are often disadvantaged that they are looked at and considered in some way different and their faith makes them less worthy of regard he said',\n",
       " 'i feel like i should care that im a bit heartless not to',\n",
       " 'i hate chemo and the thought of having toxins washing through every single cell and making me feel horrible makes me cringe',\n",
       " 'i feel so honoured to have hosted this series to have such talented a',\n",
       " 'i love him but i feel threatened with him around a little',\n",
       " 'i feel after reading allthingsbucks blog which brought tears to my eyes and a lump in my throat and a feeling of not having a worthwhile thing to be upset about that i shouldnt write such a lame blog',\n",
       " 'i was feeling determined it didnt take long for me to start nomming on naughty stuff again',\n",
       " 'i feel honored to be with many wonderful artists and to display my work for the public to see',\n",
       " 'i just remember being so fully stressed out and while i had fun i feel it could have been more lively',\n",
       " 'i feel so dazed a href http twitter',\n",
       " 'i feel bitchy because i am hurting too',\n",
       " 'i always feel like ive been assaulted by his pics',\n",
       " 'im not only thankful that everything seems to be working out as i wrap week at my new job but also feeling pretty lucky to have the people we do in our lives',\n",
       " 'i feel incredibly isolated and lonely',\n",
       " 'i feel too selfish to talk about you to anyone else thyroid for i do not want them to think i am just dramatic and whiny when really it is just hard for them to understand that yes someone can look fine and still feel terrible',\n",
       " 'i had to have a blood test yesterday so perhaps im feeling particularly fond of it right now because of the doctors needle that was inside of me and the time spent with the dizzy head of a non meat eating nineteen year old female',\n",
       " 'i was i admit very worried about feeling isolated i work in a cubicle pretty much on my own unless someone needs me',\n",
       " 'im feeling like life is fairly sweet',\n",
       " 'i am going to clean the slate by unilaterally forgiving those i feel have wronged me or someone i love intentionally or through carelessness so that i thereby in time can forget the perceived insults and abuses',\n",
       " 'i feel like each year i teach i get more passionate about my job find more love for my kids and want to try even harder',\n",
       " 'im not one of those people who can bury all their feelings and anger just in a second giving out a sweet smile even when in pain and anger',\n",
       " 'i knew it was the holy spirit at work plus it feels divine in the gooooood way like a massage reassuring me',\n",
       " 'i feel as though ive reached a point in my career where im highly respected there',\n",
       " 'i make light of it but sometimes i feel really awkward in small groups and in one on one conversations',\n",
       " 'ive had a lot of good days where i feel fabulous and have lots of energy but lately ive also had some bad days where i feel gigantic and slow and clumsy',\n",
       " 'i also feel like if google hated seo we d know it',\n",
       " 'i didnt get a wink of sleep that night and continued feeling not so fabulous the next morning',\n",
       " 'i feel like you feel this is a mistake but time is fucked up sleep won t take',\n",
       " 'i love sliding down on a nice big throbbing cock and feeling what my gorgeous body does to a man',\n",
       " 'i found myself in the novel position of feeling a bit uncertain about the stock market rally',\n",
       " 'i feel like she s judging me and he s not here and i don t want to seem like the needy girl so i don t know',\n",
       " 'im definitely feeling festive',\n",
       " 'i feel burdened by her presence',\n",
       " 'i still feel a little dazed and have that sort of disbelieving feeling of oh my god',\n",
       " 'i am feeling super excited as the weeks seem to be flying by and we are getting closer and closer to our due date',\n",
       " 'i have turned that page i feel like there is no way of getting back my irresponcible years of carefree college',\n",
       " 'i have a few favourites of my own but the choice of book is up to you or you can have a dvd if you are us or uk im feeling generous so the limit is up to which is about something like that',\n",
       " 'i am feeling more energetic more alive happier than i have in a long time',\n",
       " 'i feel really pathetic confronted with some',\n",
       " 'i feel there are dangerous games or activities',\n",
       " 'i feel a world class player in the benzema mould would be fantastic',\n",
       " 'i am feeling terribly burdened by impending anxiety i am trying to just keep my eyes on the prize',\n",
       " 'i feel could be unpleasant is layered with love healing forgiveness and the expectation that things will turn out well',\n",
       " 'im feeling gloomy as i have completed nothing though im supposed to complete many things',\n",
       " 'i am not working out the amount i would like to i feel like my lifestyle change has been successful so far',\n",
       " 'i love the porn industry and i feel satisfied and fulfilled working in it i have to say that it doesn t really bring in the big bucks',\n",
       " 'i overhear the victory tune on some geeks ringtone i feel triumphant',\n",
       " 'i love children s literature authors who don t feel the need to dumb down things for kids',\n",
       " 'i was soo quiet it was a mixture of not sleeping well and feeling a bit isolated from the big group',\n",
       " 'i do feel that they are greedy and money hungry absolutely',\n",
       " 'i feel so fucked up now i want to shut myself up',\n",
       " 'i feel very passionate about a certain topic i love backing up my position with actual knowledge and facts instead of relying solely on opinions',\n",
       " 'i feel like today is way suffering than the exam day which we have to open books everytime we went home',\n",
       " 'i feel surprised by how down it makes me',\n",
       " 'i woke up the morning of our hike feeling jubilant',\n",
       " 'i feel like a little kid whose mom is proud that they touched the soccer ball once during the game',\n",
       " 'i feel miserable on the inside but on the outside i just like i',\n",
       " 'i must find a way to accept these limitations until they are older without feeling held back or resentful',\n",
       " 'i feel incredibly charmed that i have these people in my life and that i am at such an exciting amazing chapter of things',\n",
       " 'i feel wronged but the judges people make at times however i also found out that actually in life we just need to be responsible to our own actions and and the people around us',\n",
       " 'i know those feelings stem from this part of me that is not accepted mainstream more importantly in the communities to which i seek belongingness',\n",
       " 'i really like how the special edition really does feel special with songs on it',\n",
       " 'i feel as if i must blog constantly for all my loyal fans the baker thia sandwich the scruncher and of course mini t rex',\n",
       " 'im currently feeling way fucked up with the mother tongue paper',\n",
       " 'i feel your innocent love',\n",
       " 'i feel like having that sweet carby yet low glycemic meal not just at breakfast but often for dessert',\n",
       " 'i feel safe encoding utf locale en isprivate false ismobile false mobileclass isprivateblog false languagedirection ltr feedlinks link rel alternate type application atom xml title i could use a standing ovation could you',\n",
       " 'i really lose a lot of my nesting homemaking instinct and desire when i am pregnant and the longer im pregnant the worse it gets though i do get about a month reprieve where i feel creative again around the six month mark and youll notice that is when i did a post for halloween',\n",
       " 'i feel as if this opportunity to return to moz is gods gracious gracious way of giving me that heat desire despite my own self doubt and uncertainty in the past',\n",
       " 'i feel really lucky to have found you as a resource and have always felt the answers i needed were there for the asking',\n",
       " 'i keep running up the hill and fitness wise feel fine but along with my foot my calves are starting to now hurt also as they begin to tire',\n",
       " 'i am always so sensitive and my every sense feels like it is being assaulted as i drag myself away from the darkness',\n",
       " 'i supposed i ought to feel thankful for that adding with a sarcastic edge at my age',\n",
       " 'i couldnt help but feel totally distraught and utterly helpless when lorena was kidnapped and tortured almost to death by a band of enemies i was desperate for her freedom',\n",
       " 'i feel i was unfortunate with both mister magnum and sounds of cheers travelling well for long periods of the race',\n",
       " 'i feel tortured and tragic enough as it is without having any importance or sparkle',\n",
       " 'i feel selfish thinking this way but i feel so lonely at times',\n",
       " 'i feel drained of energy',\n",
       " 'i just think about all the day i chatted with my mom amp also feeling horny and masturbate myself',\n",
       " 'i am feeling pretty stinkin shitty for being such a horrible reviewer',\n",
       " 'i feel helpless about it',\n",
       " 'i was feeling awful on sunday',\n",
       " 'i dont know why but i had started to feel the weird pressure of a largely silent audience and with it a falsely inflated sense of importance in expressing myself and my ever so articulate opinions to said audience',\n",
       " 'i just woke up from my nap and i feel extremely agitated and grumpy',\n",
       " 'ive been studying really hard for it and discovering pretty words that never crossed my mind and how they portray the exact meaning and i feel like ive missed out a lot',\n",
       " 'i feel lonely at work im not a social bird as i usually am when i was in school',\n",
       " 'i love comments so feel free to post one',\n",
       " 'i feel intimidated by the great women in my family tree',\n",
       " 'i truly feel that they do a lot of positive things to help the conditions for the workers and their families kids',\n",
       " 'i think this may be the reason i would want to fly back to uae because there i can be oblivious of these conflicts that plague me conflicts that i feel helpless resolving',\n",
       " 'i saw the video of cena kissing maria and surprisingly i didnt feel like i hated her',\n",
       " 'i feel like i have been rather unkind to it',\n",
       " 'i was not feeling submissive',\n",
       " 'i do feel a bit obnoxious it is definately the weather',\n",
       " 'i says pressing his torso against siwons and bringing their faces close enough that he can feel siwons agitated breath',\n",
       " 'i had been indifferent to tell the feelings and words i had treasured ever since the feeling start to bloom are one of the moments i want to keep',\n",
       " 'i feel hes being very casual with my entire future',\n",
       " 'i was still feeling strong but i missed a couple lifts',\n",
       " 'i sat on my couch for several hours feeling pretty low',\n",
       " 'i checked on you was a long time ago i can say you were happy way back then feeling contented with everyone and everything around you',\n",
       " 'i write him when something big has happened like a fun trip or milestone and other times i just write him to tell him how im feeling about his sweet baby snuggles or growing personality',\n",
       " 'i hate the expectation that i must need a man in my life to feel worthwhile or valued',\n",
       " 'i did feel that loving kindness allow us to think and feel how our conscious and how we interact with various things in the body and mind',\n",
       " 'i feel completely blessed to be a part of this group',\n",
       " 'im the type who doesnt use a moisturizer as my skin is too oily so this product is designed to contain a ton of moisturizing ingredients that will make my skin feel lovely without oils',\n",
       " 'im afraid im in an environment that makes me feel more relaxed cause',\n",
       " 'i am feeling overwhelmed i want to physically shake everything off me the way i would if there was a spider in my shirt',\n",
       " 'i will say that a little piece of me feels agitated when i watch discussions on race and there will i style color font family georgia serif font size px line height',\n",
       " 'i can feel but i cant touch you said my love was a bit too much i wont deny it broke my heart cant find no crush so why dont you come on back home',\n",
       " 'i feel a little frustrated an ache of longing has settled into my heart the weariness of life his slipped around my shoulders like an unwelcome friend',\n",
       " 'i even remember trying them on last year and feeling crappy because i was nowhere near closing them',\n",
       " 'i broke my uncles radio player accidentally and so i feared that he was going to cut me off from going to his house as well as playing it again',\n",
       " 'i have been feeling conflicted on whether or not i as a follower of christ should celebrate the ever popular pagan originated modern day holidays',\n",
       " 'i was feeling impatient and took pills',\n",
       " 'i feel carefree and weightless and yet worried and grounded all at the same time',\n",
       " 'i feel he is sincere and repentant for his past opposition to civil rights',\n",
       " 'i did at one point put my son in daycare but my mom constantly made me feel like a terrible parent because of it',\n",
       " 'i only have a few things on my list i feel super guilty and can t relax',\n",
       " 'i feel uncertain about his motives and feel an inbalance in our committment to the process of counselling for reconciliation',\n",
       " 'i feel like i am really valuable to him',\n",
       " 'i feel like my go to emotion is angry',\n",
       " 'ive had too much training in grammar and language and reading something written like this kind of feels like im being assaulted',\n",
       " 'i is feeling insulted because everyone is comparing sneha with her',\n",
       " 'i still wake up every morning feeling so blessed to be here and unable to believe im lucky enough to be able to call this amazing family mine for life',\n",
       " 'i feel as if the leaders of countries do not depict the people of their countries because for the love of god i hope no one thought at all i was in any way supportive or like george w',\n",
       " 'i was feeling really horny all afternoon with no one to fulfill ma sexual desire and only had my bed and creative thoughts to help me out and not forgetting my handss which aahhh work like magic',\n",
       " 'i know scones are not a must have food but i am determined to live a frugal lifestyle without feeling deprived',\n",
       " 'i giggle nervously when i feel threatened',\n",
       " 'i feel that horrible helplessness to make things better for them and that feels like it will kill me inside',\n",
       " 'i have a few more of these but after taking pictures of my house i feel it is far too messy to post photos online so ill clean up a bit before i post those',\n",
       " 'i feel hated loathed',\n",
       " 'i picked up feeling a little apprehensive',\n",
       " 'ive been feeling very numb',\n",
       " 'im feeling every bit the spiteful vindictive bitch i can be at times',\n",
       " 'i got a feeling by the look in her eyes that she was sincere',\n",
       " 'i feel assured that my mind is not one',\n",
       " 'i feel that is very unfortunate that i dont own the soundtrack',\n",
       " 'i can t believe it i feel so nervous but my father reassures me that there is nothing to be nervous about which only makes me more nervous',\n",
       " 'i feel uptight my day is complete when hes around i feel so right a little nervs i dream about what we can do date and all the things we can pursue wedding i always dream that your mine very day min',\n",
       " 'i didn t think that it would come that fast or would come at all but i suppose it is because i feel cranky today',\n",
       " 'i have the feeling that im going to be stubborn about it',\n",
       " 'i feel lonely and lost',\n",
       " 'i would feel empty',\n",
       " 'i start to feel agitated lacking in patience and just down right cranky',\n",
       " 'i know its easy to twist things to create an explanation and im still not sure i have one but it did help me to feel a little less mad',\n",
       " 'i am so feeling so rich and yup i know i am so blessed',\n",
       " 'i didnt tell you because i didnt want you to feel afraid',\n",
       " 'i love some of it the media coverage but sometime i feel they put an ugly picture',\n",
       " 'i feel as though i am being a little neglectful of my fellow bloggers',\n",
       " 'i sort of hate glasses because they make my eyes look small and since huge eyes is all i have going for me it was quite an upset but im hoping these bigger frames will make me feel less paranoid',\n",
       " 'i cant believe the moment where i feel the most useful is when im washing the dishes',\n",
       " 'i feel distressed music on my mind rewrite fma op',\n",
       " 'im feeling quite lonely here now and its only monday of half term',\n",
       " 'i feel really socially awkward and dont like to get out and meet new people and do things in groups and be adventurous',\n",
       " 'i admire athleticism i feel like i would be more entertained if i got to watch severely out of shape people participate in olympic events',\n",
       " 'i feel horrible because i feel horrible made worse by the fact that i havent gotten to workout',\n",
       " 'i would hate to be bit imagine if the secretary is feeling irritable that day eh',\n",
       " 'i feel it and im unhappy',\n",
       " 'i feel like they take time to care for their flowers and are wonderfully loyal to their hive',\n",
       " 'i remember feeling amazed',\n",
       " 'i know that i will never see this place again and that would break my heart had not a thick layer of moss encased it in a thick shell muffling all other sharper feelings pleasant or painful',\n",
       " 'i am a nameless mid s bottom law school graduate who finds himself marginally attached and awash in a sea of overeducated but underpaid indentured peers who feel and were duped by the promise of a better life through debt and modern chemistry',\n",
       " 'i truly feel what you all contribute to the blog world especially with regard to educating writers is so valuable',\n",
       " 'i feel like it would be too clever and get into a ton of things all the time',\n",
       " 'i know shes right because i feel more energetic awake patient and happy when im running daily but i still feel a little bad too because i believe breast milk is so much better for babies than formula',\n",
       " 'i quickly trotted off he added i feel embarrassed to ask hoping i would enter into some kind of conversation with him',\n",
       " 'i hated that when i got drunk the whole next day was spent sleeping and feeling groggy',\n",
       " 'i love the discussions in the class and feel passionate about feminist issues but when i go to write it down it feels as though i am faking it',\n",
       " 'i would want to welcome into my home if i end up feeling my mommyhood threatened by my inability to breastfeed my baby',\n",
       " 'i feel agitated and the result is not pleasant the opposite of calm and peaceful',\n",
       " 'i feel so honored that students come to my classes',\n",
       " 'i often tell him that i want attention from him especially when i feel horny and want to have good sex for hours',\n",
       " 'i get an anxious feeling i feel xox soon itll be the real thing already so i need to be flawless',\n",
       " 'i feel very rich very blessed very joyful',\n",
       " 'i had horrible anxiety dreams every night last week and it made me feel really paranoid and of course all of that reading about conspiracy theories and unsolved crimes online didnt hugely help matters',\n",
       " 'i truly feel but its somehow not enough for me to hate him or to get mad',\n",
       " 'i remember feeling uncertain about myself when i was young and especially when i became a teenager',\n",
       " 'i feel is that i cant get far enough away from what feeds melancholy for long enough that it would just wither and die off',\n",
       " 'i want to enter in defiance but coming from a different culture i feel offended that i am not allowed',\n",
       " 'i was feeling rebellious so i ate it',\n",
       " 'i do feel agitated restless or on edge quite often',\n",
       " 'i feel uncomfortable using the word awesome but this idea actually is',\n",
       " 'im feeling rather pleased with myself tonight because i did that',\n",
       " 'i feel like this leads me to be not as gentle and kind as i should be',\n",
       " 'i feel like i should have actively hated every single second rather than just borne it all',\n",
       " 'im feeling indecisive and it scares me',\n",
       " 'i feel a violent tug at my eye socket',\n",
       " 'i feel so carefree nowwwwww',\n",
       " 'i believe that what was displayed is a deep emotional yearning for semblance of normality peace since it appears the dancing arabs did not feel threatened by a fully armed soldier',\n",
       " 'i was left feeling discouraged and hopeless once again',\n",
       " 'i feel that this is going to get very messy to get fixed and back on the road again',\n",
       " 'i feel frustrated that its not easier other days i remember that the blessing of research learning trial and error hard won success and patience will give me a far better garden in the long run',\n",
       " 'i was sick with a cold amp not feeling well wondering if i would even be able to have the patience to go to whitleys month photo shoot',\n",
       " 'i was tempted to feel a little bitter but then i saw this',\n",
       " 'i feel kind of insecure here anyways back to doha',\n",
       " 'i am grateful that i no longer feel a frantic urge to fix the emotional upsets of those around me',\n",
       " 'i feel about strange brew',\n",
       " 'i feel quite strongly that students should be punished due to how well or badly they have faired compared to a completely unrelated group of people',\n",
       " 'i want to have a job where i am permanent and where i feel like i am valued',\n",
       " 'i care about someones emotional spiritual and intellectual progress to the point where i feel like i should exert myself in that progress and its important to me that is love',\n",
       " 'i will actually feel comfortable speaking to others in just japanese i feel pretty happy about my current progress',\n",
       " 'i learned about different things like how family plan the arrangements and even how real the pain can feel when a loved one passes on',\n",
       " 'i feel at least dating them would not be in vain',\n",
       " 'i like keeping a record of my life in written form and pictures and i feel like that is even more important now that i have baby',\n",
       " 'i do not feel unhappy miserable wretched glum gloomy forelorn or heartbroken',\n",
       " 'i really am feeling horribly irritable and a little bit depressed',\n",
       " 'i feel more than honoured to be part of this series and join all these wonderful and talented ladies in a celebration of the womanhood',\n",
       " 'i feel more confident about this team right now than i did four hours ago',\n",
       " 'i simply said how sorry i am and just got out from her car and got into my house feeling restless',\n",
       " 'ive been feeling a bit paranoid like its really noticable that im off and that everyone can see that',\n",
       " 'i feel have a fabulous birding weekend everyone',\n",
       " 'i am at the bus stop and i hear the squeak of a baachan trolley i feel a little paranoid',\n",
       " 'im feeling rushed and like i should have planned certain things this summer that i can no longer do',\n",
       " 'i feel that cold breeze',\n",
       " 'i try to breathe in when i feel frustrated and breathe out the calm that i desire',\n",
       " 'i feel the language of the warning is pretty benign but i am open to your suggestions on how to improve it',\n",
       " 'i knew where things was headed but that didnt really prepare me for the heartbreak even i would feel my heart broke for danielle and all other military wives that have had to go thru losing their husband trying to protect our country',\n",
       " 'i suddenly feel a lot smarter and more talented than i did last night',\n",
       " 'i get into what it actually does i feel like everyone should buy it just because it smells amazing',\n",
       " 'i feel as though i cant bear the motion of quilting it even though the idea of it delighted me so only a few days ago',\n",
       " 'i feel heartless now feeling bored and not believe in love anymore',\n",
       " 'i ended up shoeless making me feel even more vulnerable and slowing me down further',\n",
       " 'i have been highly critical of dennis covingtons book in this article i must admit that he did say something that has merit in this discussion when he noted in his closing chapters this feeling after god is a dangerous business',\n",
       " 'i refers of course though i cant help feeling somehow ironically in retrospect to loudons son with kate mcgarrigle the rather talented himself rufus wainwright',\n",
       " 'i feel lonely few days before my birthday',\n",
       " 'i feel like i captured all his sweet looks',\n",
       " 'i had envisioned and intended im just feeling unsure whether i got that vision and intention right',\n",
       " 'i feel like i need cute pictures to share',\n",
       " 'i was feeling so low about myself',\n",
       " 'i feel really angry sometimes because for the love of god havent we been through enough',\n",
       " 'i feel sorry for rafael bosch',\n",
       " 'i hope for is that those certain people can attend to more important things in their lives but still come back to blogging if they feel they missed blogging',\n",
       " 'i do not feel comfortable staying in my house i feel relentless when im asked to do something tired almost all the time and bored without my own money',\n",
       " 'i guess im feeling generous today and so i have decided to offer a fabulous deal on of my most popular prints at the moment',\n",
       " 'i begin to feel unpleasant about anime fandom in general',\n",
       " 'i feel tender and disoriented',\n",
       " 'i am feeling really carefree and today was really carefree',\n",
       " 'i am feeling miserable and sick but hoping that with the amount of sleep i am getting i havent had much choice i have had zero energy cold meds vitamins and lots of fluids i have high hopes to feel better tomorrow',\n",
       " 'im feeling cranky and horrible',\n",
       " 'im more comfortable in a relationship because i wont feel as slutty being with one person having the same amount as i would if i were single or not',\n",
       " 'i feel troubled because of the ongoing relocation of our front door',\n",
       " 'i asked him what was making him feel so fabulous and he said i m healthy my family is healthy and we live in a free country',\n",
       " 'i woke up feeling incredibly content amp optimistic today however i woke up with a terrible cold and a complete lack of energy',\n",
       " 'im feeling a combination of terrified and relieved',\n",
       " 'i really feel i was wronged as a patient',\n",
       " 'i feel that gulam ali is even more talented than many other classical singers',\n",
       " 'i be the go to guy for someone who wants a genuine guy who would treat them right and spend quality time with them and make them feel special',\n",
       " 'i think we all feel very passionate about our favorite workout gear and i love seeing what other people love need have to have can t live without so i am hoping you will share your favorites in the comments',\n",
       " 'i feel strange with it because it started to be sale',\n",
       " 'i always notice even though she is fabulous at hiding it according to the rest of the world and feel it keenly and am greatly distressed',\n",
       " 'i feel so shaken and guilty for not being a better mother and shielding my offspring from this health problem',\n",
       " 'i feel like a greedy little traitor i m looking looking among these covers hey little snotface take me',\n",
       " 'i feel like i was a rude ass hole at hookah',\n",
       " 'i feel for my beloved that is reciprocated',\n",
       " 'i feel heartbroken for bryan',\n",
       " 'i feel like i had fake everything',\n",
       " 'i would feel differently if i believed that the leaders were perfectly truthful',\n",
       " 'i cant help but feel a longing to be outside more to feel the rain on my skin and sticky tree droppings on my feet',\n",
       " 'i was made to feel like it was my fault that i couldn t control my husband and his violent behavior if they even believed it existed',\n",
       " 'i feel like its important to reveal lessons youve learned in tough times along with ones youve learned in awesome times when you are endeavoring to build an audience through honesty and authenticity',\n",
       " 'i feel disgusted when need to act cute like the actions of gwiyomi',\n",
       " 'i said i feel incredibly thankful on the whole',\n",
       " 'i feel inspired and eager to press on when the sun shines',\n",
       " 'im just hoping i can walk by then because my thighs are not feeling at all friendly today',\n",
       " 'i was feeling nervous sure just like anyone else would be in my position',\n",
       " 'i was older i might not feel as frightened about spending the time i have left alone',\n",
       " 'i must say that i feel that i accepted something of a poisoned chalice',\n",
       " 'im an introvert by which i mean i get re energized being alone and preferably in a quiet place so times in the crew galley when there are a lot of people in a relatively small place all talking at once can leave me feeling drained and in need of a dark room with nothing but whale noises',\n",
       " 'im feeling generous ill give you a story as well',\n",
       " 'i find this scent pretty generic i actually feel like bath amp bodyworks didnt invest much time in this collection like they created sweet on paris then decided to throw together two other predictable scents',\n",
       " 'i like the person i have become because i feel so much more carefree and liberated but at the same time i dont recognize myself',\n",
       " 'i feel numb right now i thought i was feeling angry but now i dont know i dont feel anything should i be sad should i be happy or angry i dont know how to feel anymore',\n",
       " 'i just feel so discontent about my life these days',\n",
       " 'im starting to not buy the whole everything happens for a reason bit or god has a plan b c i feel that god is love and theres no way that he would torture me and other women like weve been tortured dealing w fertility issues',\n",
       " 'i feel truly impatient that this is taking so long',\n",
       " 'i want to say how i want to feel just come out so bitter and angry',\n",
       " 'i know what it feels like to face irate customers',\n",
       " 'i have always had people in my life who have gone out of their way to put me down trip me up or make me feel as if i were completely moronic or not worthy enough',\n",
       " 'im feeling fine',\n",
       " 'i prep myself for another sleepless night i can t help but feel ashamed of myself for feeling this way',\n",
       " 'im feeling quite pleased this week',\n",
       " 'i still feel shaky is because in the worst hit areas the damage and destruction is so complete',\n",
       " 'i wouldn t throw it in the ocean but i don t feel i would have missed something in my career if i don t win an oscar',\n",
       " 'i feel privileged to have narrated erik princes autobiography civilian warriors the inside story of blackwater and the unsung heroes of the war on terror which will be released this monday nov th',\n",
       " 'im not used to feeling the dependency or the neediness for being needy is not me or at least wasnt prior to recently',\n",
       " 'i am feeling hopeful and looking forward once again',\n",
       " 'i feel it is because mccarthy isn t at that place yet in her career where she can really consistently humanize a character while balancing out the fact they are supposed to be funny',\n",
       " 'i feel uncertain and uneasy',\n",
       " 'i feel so comfortable around him',\n",
       " 'i feel privileged having the opportunity to be a part of it all',\n",
       " 'i feel nervous about going back to america not knowing what to expect the transition to be like',\n",
       " 'i started to feel kind of skeptical about this myself',\n",
       " 'i love this little boy and sometimes i feel how inadequate i am as a parent to him',\n",
       " 'i keep these things predominantly for fix functions and will not arranged right now to create a style applying twelve months previous ingredients until i m feeling much more perverse than usual',\n",
       " 'i havent worked out today but i feel like im just not going to feel it ive been so stressed at work and just in life that this week is just bad',\n",
       " 'i feel sad and discouraged',\n",
       " 'i thought having a well respected and recognized mother of autistic boys would be the perfect guest blogger with a message i feel passionate about',\n",
       " 'ive been coursing through cycles of happiness to a feeling of being mellow to a feeling of being really depressed to being mellow again and then back to the beginning',\n",
       " 'im feeling amazed with my california ness at the moment currently sitting by the pool drinking a wine spritzer out of nagalene connecting via google wifi and using stellarium to figure out the stars',\n",
       " 'i probably couldn t go back to washington permanently once the baby is here at least not for a while although i have been torn for a while about whether i want to yes bleu i know how you feel about this but i m still not completely convinced',\n",
       " 'i also feel a strange sense of guilt about all the people who arent similarly situated to move to a different neighborhood',\n",
       " 'i have a feeling hell be a casual favorite if blue or red are heavy colors at your casual tables otherwise i could see it in tournament decks while red is popular and possibly when if blue steps in its place one zendikar block rotates out',\n",
       " 'im feeling agitated and pour more brandy on my coffee',\n",
       " 'i feel that way considering most people are pretending to be the way they are and very very few are being sincere',\n",
       " 'i feel it gives even more period feel and detail than sharpe and is certainly good enough to read cover to cover',\n",
       " 'i feel like i have reached a plateau where im not buying as much as i use to and feeling more satisfied with my wardrobe and personal style',\n",
       " 'i learned the hard way and after being here for about three hours you ll feel like you ve been here for months from all the friendly people you ll stop and talk to',\n",
       " 'i feel like i shouldn t be that amazed with a degree in biology i was blown away',\n",
       " 'is that you feel it more than hear it and the vibrations are so gentle that it doesnt bother me',\n",
       " 'i feel very unhappy and incomplete',\n",
       " 'i am pretty certain we will use this name as a middle name if its a girl as it has such a special feeling to it and the connection with his her poppy is so lovely to me',\n",
       " 'i feel that something wonderful is going to happen',\n",
       " 'i feel rejected and unwanted',\n",
       " 'im getting is that since i feel that i accepted the mark of the beast when they shot me up and i thought they where going to kill me and i screamed so loud that i didnt want to die',\n",
       " 'i try not to let their ignorance get to me if i have the energy and it feels important sometimes ill engage them in a little light debate and try and to broaden their view of the world',\n",
       " 'im feeling lousy i may dismiss a gorgeous day if im feeling bright and cheerful then the most dreary of days becomes tolerable',\n",
       " 'i am going to assume a moral obligation to find a way to make sure i feel pretty damn rich every day',\n",
       " 'i thought i would very sweetly cover over what i was really feeling and say something pleasant about all the bad things he had done whatever they were',\n",
       " 'i have an ironic feel i dont feel anything special but i still smile broadly whenever he tells me something',\n",
       " 'i really like him he has good morals and is very nice to me and respectful but its like i feel like i still belong to brad and i couldnt picture myself with eric because hes too innocent',\n",
       " 'i sense this is wat has let you feeling unsure',\n",
       " 'i am feeling very apprehensive about the future at the moment',\n",
       " 'i am not a very extremely good friend of someone of course i feel reluctant to some extent if i have to do favours for that someone',\n",
       " 'i was sleeping in my room but woke in the middle of the night to think i could hear noises and see shadows moving i felt that someone was in the house',\n",
       " 'i sometimes feel resentful that this has come into our lives at this time',\n",
       " 'i began feeling amorous towards everyone on stage towards the people around me as i experienced the moment with them',\n",
       " 'i sometimes feel disheartened when i realise just how far from my own culture i am',\n",
       " 'im so overwhelmed with feeling blessed by you i have to pray the fears of this being the last time i say happy birthday to you',\n",
       " 'i feel very popular and also a little pressure to keep it up which is exactly what i need',\n",
       " 'i feel hopeless and out of control',\n",
       " 'i feel horrible that i had to cancel on one of my best guy friends but the trip was stressing me out because my babysitting hours got cut and i couldn t afford it',\n",
       " 'i climbed a mountain and made my way to a village where the people stared at me the children looked frightened and ran away and everyone i came across asked me why i was there in such a way as to make me feel unwelcome',\n",
       " 'i dont feel inhibited and i can work out my problems',\n",
       " 'i took a chance and kept crying in hopes she might feel benevolent',\n",
       " 'i have done so in hopes of being inspiring while at the same time looking for solace from people rather than god and for proof that maybe i can do something good while i feel so horrible',\n",
       " 'im feeling melancholy with all the back to school stuff today',\n",
       " 'i begin to have these doubts my stomach clenches my heart races and i feel fearful',\n",
       " 'i liked that ros is not intimidated by anna s wealth and that anna doesn t feel guilt or superior about her wealth and that she enjoys it',\n",
       " 'i feel like i have been really cranky at school these days',\n",
       " 'i watch her gather her little blocks and tuck them under her belly like a little red hen coo and cuddle her soft baby doll and look with interest at other babies i can t help but feel thrilled that she s our firstborn',\n",
       " 'i feel like him try to stay as faithful as possible to what he perceives as the real events that happened in that mountain',\n",
       " 'i walia feels suspicious about tarun and bani',\n",
       " 'i do not feel like i am hostile toward others just that i fail to be nice to them',\n",
       " 'i feel glad to have my little blog to share with you the dangers i see on the path ahead',\n",
       " 'i wake up feeling cranky and out of sorts',\n",
       " 'i say that i feel like im being tortured by him',\n",
       " 'i cant help looking back on the child i was and feeling rather jealous but i am also delighted to be living in a time when a nine year old child in some parts of the world can read a thousand books a year if she he wishes and is able to',\n",
       " 'im feeling a bit cranky today',\n",
       " 'i even dare to say that some of the biggest stiller and or vaughn haters still could get some enjoyment out of this movie and not feel annoyed by their performances and characters',\n",
       " 'i make punjabi lobia masala mostly during winters as i feel the protein punch and spice rich recipe is a winter warmer one',\n",
       " 'i had then these were truly terrifying and still feel shaken and uneasy because of them',\n",
       " 'i begin to feel burdened by things amp long to be empty again',\n",
       " 'i write on this space i feel quite nostalgic and my mind races back to the good old days when i used this as a daily haven to park my learnings and memories',\n",
       " 'i feel so numb f',\n",
       " 'i sit here tonight i m pensive tense and feeling a little fearful',\n",
       " 'i want someone i know to know all my thoughts and feelings or do i want to keep all my loyal and faithful readers',\n",
       " 'i feel more joy and anticipation of all that is my divine right',\n",
       " 'i was feeling so overwhelmed that i asked my bqff to keep of them at her house until theyre ready to be loaded so i dont feel so behind',\n",
       " 'i feel thrilled to be able to investigate my own personal mythology around this subject',\n",
       " 'i feel creative right now and it makes me happy',\n",
       " 'i could wear on a casual shopping trip to feel fabulous without even trying',\n",
       " 'i want others to be happy but does that mean i step back yet again it feels like and allow them to be happy because they deserve it or do they even deserve it or do i',\n",
       " 'i am limiting myself to what i can reasonably do without causing greater injury but i have to do some sort of physical exercise or i start to feel horrible about myself',\n",
       " 'i would always feel amazed at how impacted these and year olds were by this subject',\n",
       " 'i feel so lucky to live in portland land of delicious food',\n",
       " 'i was feeling pretty cranky this morning and stopping in here really made me feel a lot better',\n",
       " 'i didnt feel the cold up there because we had a fire every night',\n",
       " 'im also feeling cranky about it because the main characters scientist brother observing the moon mentions that there is zero gravity there',\n",
       " 'i folk if im feeling sociable',\n",
       " 'i feel these divine forces so strongly sometimes i wonder if agnostics atheists and judeo christian fundamentalists have any feeling or excitement in their hearts',\n",
       " 'i started to feel discouraged at the thought of being there more than one day',\n",
       " 'i feel like maybe he is going to stop loving me or maybe its true and im a terrible wife',\n",
       " 'im already feeling sentimental about his time as a newborn as he was so wee and has sadly outgrown some fave thrifted outfits',\n",
       " 'i feel like ive been in a more innocent version of a one night stand',\n",
       " 'i finish typing this post i realise i m ok no longer do i feel annoyed angry or even sad',\n",
       " 'i refuse to rate the book but if she and her publisher feel snobbish then take it from me when i say jeanette winterson cannot write and essentially does not do wish to do anything with the scope to explore',\n",
       " 'i feel petty even though the thoughts arent real fleshed out thoughts just these fluttering i should feel like this kind of thoughts',\n",
       " 'i felt sad and apprehensive and angry that i d had vertigo and that it had left me feeling uncertain',\n",
       " 'i feel like ive got a handle on trusting my instincts',\n",
       " 'i feel so complacent and start thinking that i am so smart',\n",
       " 'i have admitted defeat and asked the other half to come back from the lake coz i just feel so uptight already',\n",
       " 'i feel if journalists then blamed me',\n",
       " 'i missed about a month combined of classes and was pretty much bed ridden for months of the semester i feel really amazed that i was able to pass',\n",
       " 'i put my leg around yours and wrap my arms under yours for me to feel safe again',\n",
       " 'i feel more loyal to lucy',\n",
       " 'i feel like im not pretty enough like my personality is too boring and obnoxious',\n",
       " 'i am so relieved and excited and i feel confident again',\n",
       " 'im proud of but having crafted something that other people care about even just enough to click through to makes me feel so wonderful',\n",
       " 'i have switched songs as that one was beginning to make me feel a little melancholy and who the fuck needs that',\n",
       " 'i feel embarrassed to talk to him at times because i feel very small in those moments like he is doing me a favor and i do not deserve to be given attention',\n",
       " 'i sound so entitled but you cant help but to feel disappointed even though you already knew you were going to be',\n",
       " 'i remember feeling how my husband felt when i would see people being rude to my mom and mom just being her sweet self to them',\n",
       " 'i feel more clever',\n",
       " 'i was feeling remorseful about my breakfast and so i took a diet pill',\n",
       " 'i feel as though the concept of lifestyle change rather than weight loss has been beaten to death but it really is something that i believe in and am currently experiencing',\n",
       " 'i do not know what my next steps are but i no longer feel lost',\n",
       " 'i have been feeling awful',\n",
       " 'i believe just imagining what it would be like to act live in front of an audience will make me feel joyful',\n",
       " 'i thought maybe it was just my hands feeling funny but i touched my hair with my totally clean forearm and it became sticky',\n",
       " 'i hate the moment when i completely feel perfect with people around me whom i love the most suddenly disappear',\n",
       " 'i remember feeling a little jealous and realized that our time together wasnt solely about me but that he has a larger network of social interactions all ready in progress before i got there',\n",
       " 'im known to feel affectionate toward those who adore leonard cohen is what makes me like him quite a lot',\n",
       " 'i feel really tranquil where i am right now',\n",
       " 'i feel impatient yet i am not fully sure what i am searching for',\n",
       " 'i was on my own tearful and feeling unloved even though i know that i am',\n",
       " 'i feel like after everything ive been nothing but sincere what bothers me the most is that you wanted to hurt me you even told me',\n",
       " 'i feel like i had so much to write then got distracted by my home on a wednesday evening challenge and have therefore lost my train of thought',\n",
       " 'i was starting to feel a little stressed',\n",
       " 'i have to admit i am feeling a bit intimidated by the challenge of',\n",
       " 'i think i was feeling vulnerable due to the stress of having to buy a new sewing machine and printer',\n",
       " 'i feel ashamed to have not read it yet',\n",
       " 'i hear about a teenaged girl devastated by the pimple on her face the morning of prom i feel devastated for her',\n",
       " 'i woke up on a beautiful sunday morning feeling restless and miserable',\n",
       " 'i feel unwelcome at work sometimes and think people might be talking about me rel bookmark i feel unwelcome at work sometimes and think people might be talking about me april a class url fn n href http www',\n",
       " 'i dont need to wear a mask because at this moment i can show all my feelings to my beloved without missgivings',\n",
       " 'i couldn t turn my head away even when i feel frightened',\n",
       " 'i feel like i should go to the supermarket and buy something totally delicious for dinner with the money my mother put in my account today',\n",
       " 'i feel fine e terminando com eight days a week um ano depois',\n",
       " 'i feel the most uncertain about the project',\n",
       " 'i feel vital full of energy every day and super positive',\n",
       " 'i feel i am completely dissatisfied with the whole world and all human characters are inconsistent',\n",
       " 'i mean how would you feel if euan got hauled in for murder but you knew he was innocent',\n",
       " 'i have experimented lots of the experiences she mentions and sadly this made me realize that most women feel that their career paths are somehow going to be determined by their partners if they support them or not their children ther co workers etc',\n",
       " 'i knew from high school and he s pretty fuckin chill says that the girl feels insulted and threatened by the blog that i wrote and would like me to apologize and if i offended her i m sorry',\n",
       " 'i don t feel that talented at impacting how things end up at the moment',\n",
       " 'i find myself feeling happy more and more and it feels so very good',\n",
       " 'i feel a bit nostalgic as i wonder where my passion for writing a blog times a week has gone',\n",
       " 'im feeling particularly dangerous a chocolate cookie',\n",
       " 'im feeling ok and always has a hand on me or sits very close',\n",
       " 'im feeling quite mellow now in spite of having raging pms the past few days which means im likely to erupt with little or no warning',\n",
       " 'i feel like an innocent victim i feel that i just can t win',\n",
       " 'i actually thought i would feel bothered being their since ehb and the other woman ow spent quite a bit of time together there but i didnt feel much of anything',\n",
       " 'i feel they are sincere in wanting to resolve these grievances',\n",
       " 'i also have to attire my regular moisturizer and an oil based primer below it yet with all those points along my skin color feels and looks tender and great all time of day something thats normally not attainable to me',\n",
       " 'i feel apprehensive about the ride ahead',\n",
       " 'i feel bothered',\n",
       " 'i feel a hint of my beloved art nouveau era in this bracelet',\n",
       " 'i mostly take the stairs there are of them but occasionally when i am feeling particularly lethargic because of a number of consecutive late nights i bow down to ease and convenience',\n",
       " 'i do not feel insecure or unsafe',\n",
       " 'i feel sort of pathetic saying that my iphone internet and tv are my must haves but lets be honest they are',\n",
       " 'i guess while i can understand their concern i can t help but feel a little rejected',\n",
       " 'i laced my shoes and pounded out those feelings on the hot black pavement before me',\n",
       " 'i male are stupid first for woman cry babies and should get over it and you feel really cool for putting the stupid men in their place',\n",
       " 'i think that our favorite activities as a child are often very telling and if someone is feeling a little unsure about their life s direction going back to those childhood favorite past times holds many rich clues',\n",
       " 'i took to be his son joined elihu and me at christmastime inside a fine home with lovely mill work darkly lit and with a large stately christmas tree in the living room the feeling was gentle it was one of long lost friends meeting for the first time as adults as people',\n",
       " 'i have been praying everyday about it and i just feel more and more convinced that this is what god has called me to so we will see',\n",
       " 'i love everything that were learning about and feel really passionate about design',\n",
       " 'i feel my brain damaged are getting worst for dis moment',\n",
       " 'im not feeling terribly adventurous plus i have family visiting so i cant completely neglect them meaning its going to be business as usual for me',\n",
       " 'the funeral of a friend who was killed in a car accident she was of my own age',\n",
       " 'i feel fearful of being near them',\n",
       " 'i was wondering why i was feeling so ecstatic',\n",
       " 'i out of all people really dont have many proplems talking about how i feel that being said i am in love so after all i have bitched about the last months was in vain',\n",
       " 'i didn t think the writing really expressed the intensity of emotion one would feel at losing a beloved spouse',\n",
       " 'i cant imagine the agony those folks feel waiting for news about their own sentimental things',\n",
       " 'i feel that will make you even more caring',\n",
       " 'i feel all messy',\n",
       " 'i do this i feel lethargic uninspired and the next morning have a go at myself',\n",
       " 'i feel just insulted',\n",
       " 'i feel we need a little romantic boost in the relationship',\n",
       " 'when a very close friend with whom i have a very intimate and bodily relationship he had a girlfriend started to avoid me and didnt want to talk to me any more',\n",
       " 'i use an elevated lexicon to feel more intelligent',\n",
       " 'i feel wronged by the world',\n",
       " 'i feel lethargic and lazy and completely uncomposed if i m not dressed in something like that',\n",
       " 'i feel that the director editor missed a teachable moment when tiphany makes her comments about it being nice to feel like everyone else',\n",
       " 'i will write anything if i feel passionate about it or at the very least if it genuinely interests me',\n",
       " 'i have been working hard to shake these feelings because being popular or a genre novel or non literary fiction does not make a book any less legitimate or any less something to read and enjoy and analyze',\n",
       " 'i feel agitated and empty and missing something',\n",
       " 'i have realized that by ignoring it i am no better and it is heartbreaking to feel so helpless against it',\n",
       " 'i still feel a little dazed and high which is alarming since its been hours or so',\n",
       " 'i would feel joyful',\n",
       " 'i feel like i was there to feed them food touch love caring and compassion',\n",
       " 'i feel so terribly that i have ignored her sweet email up until now',\n",
       " 'i am feeling deeply offended big hurt feelings in fact',\n",
       " 'i do not feel overwhelmed nor rushed',\n",
       " 'i feel the most romantic of all is when i finally finish my blog post',\n",
       " 'i kinda did steal joshua s customer i feel amused',\n",
       " 'i feel thrilled with your presence in your eyes i feel the belief in peace in sincerity',\n",
       " 'i dontknow why but i never feel this way with anyone else i really cant be without linus i love him which i never thought i could ever love anyone after went through few fucked up relationship',\n",
       " 'i don t feel successful if that makes sense',\n",
       " 'im feeling low and forgotten',\n",
       " 'i feel like my life is practically perfect in every way right now and i am every so happy',\n",
       " 'i just feel like if i don t suffer to produce something then it s not worthwhile',\n",
       " 'i was feeling creative i see you alternate version of me',\n",
       " 'i am feeling a bit nostalgic today',\n",
       " 'i feel like this shows the change that many countries have taken and that many countries are on the way to making this decision that includes supporting and increasing women in all areas of life',\n",
       " 'i feel like i m that dirty trash bin on the streets that nobody really sought',\n",
       " 'i make new friends in the process i dont feel too slutty lol',\n",
       " 'i feel a bit reluctant to turn to other people',\n",
       " 'i wake up and i feel absolutely worthless',\n",
       " 'i feel like it looks gorgeous with curls so instead of making the full transition i ended up getting extremely natural red lowlights on the bottom section of my hair',\n",
       " 'i feel its gonna start aching again when the rainy season comes again next year',\n",
       " 'i am glad to know the reason for my recent lapse of sanity but i still feel like i want to go on a very violent rampage at the slightest inconvenience to me',\n",
       " 'i for one sit and stare at a blank computer screen for a while scratch my head a few times drink a couple pots of coffee and then feel triumphant once i write my first sentence and that first sentence usually consists of a poop joke',\n",
       " 'i feel highs so ecstatic that just being normal feels like a thousand mile drop and being unhappy is excruciating',\n",
       " 'i read in one horrific sitting made me feel ashamed of the world we live in',\n",
       " 'i could feel his sweet spirit and i was happy to be helping him',\n",
       " 'i really love eating fresh figs because they feel so delicate and look so much prettier than the ugly dried figs',\n",
       " 'id feel better',\n",
       " 'i watch hgtv and i feel like im not that talented',\n",
       " 'i never feel brave and nor do i want to be as i believe that in order to be brave you have to make a conscious choice as to whether you want to be brave or not',\n",
       " 'i feel like offended with such question',\n",
       " 'i probably love a handful of friends too but i always feel a bit strange when describing this as love',\n",
       " 'i feel hated and not wanted but just be an ignored',\n",
       " 'i express the gene of this dominant voice it feels rather wonderful as if i were really this writer this poet who was so carefree and crazy',\n",
       " 'i wonder are you jealous or feeling of discontent or covetousnes',\n",
       " 'i am feeling so low lately just feeling of hopelessness is very disturbing making me tired and sick entire of living this kind of life',\n",
       " 'i will put my hand on his scar covered chest and feel that half of a heart beating oh its in there beating and feel the sweet rhythm and remind him that we are not alone',\n",
       " 'i guess im just feeling a little rebellious',\n",
       " 'i feel very resolved yet somehow very depressed',\n",
       " 'i do feel tender',\n",
       " 'im feeling a little stressed over it already',\n",
       " 'i feel like that s an acceptable favourite to have and yet nowhere can i see a terpene responsible for its flavour',\n",
       " 'i am feeling a bit strange never felt that ever but should i really stop writing blogs now',\n",
       " 'i a href http feeling groggy',\n",
       " 'ive gained wieght but i really would like to lose pounds to just feel like ive finally gotten to an acceptable happy place',\n",
       " 'i feel this book explains things well and is easy to use',\n",
       " 'i feel resigned to what i have brought myself to and docile',\n",
       " 'i still feel so alone i just cant give you anything for you to call your own and i can feel you breathing and its keeping me awake can you feel it beating',\n",
       " 'i feel the loving presence of my parents daily even though they have both been physically dead for almost two decades now',\n",
       " 'i feel pretty jolly',\n",
       " 'i read cases of sons ignoring their old and helpless parents i feel very unhappy and sad',\n",
       " 'i feel humiliated by what my body can t do but when my husband makes advances towards me it reminds me that despite all that ra tries to take from my life he still finds me not only sexually attractive but beautiful',\n",
       " 'i feel kind of alone and helpless in',\n",
       " 'i feel totally ignored and excluded',\n",
       " 'im just feeling seriously pissed off at myself for doing something fantabulous but utterly stupid',\n",
       " 'i wish i could say hey you know if i died tomorrow i wouldnt feel cheated on life or regretful that i didnt accomplish something',\n",
       " 'i could look it up and act like i know what it is and lie to you about it and feel smug in my know it all ness but frankly i m way too lazy for all that',\n",
       " 'i go home i feel so empty',\n",
       " 'i have something to tell you girls i finally feel brave enough to share the news',\n",
       " 'i feel defeated like a lion s prey',\n",
       " 'i like him for who he is or i just like the feeling to be liked',\n",
       " 'i am excited i hope they will be a it more personal with us and i wont feel like i am being rushed in and out',\n",
       " 'i surround myself with bible verses that help me to transcend to a space where i feel safe and secure',\n",
       " 'i don t know why it is that i feel awkwardly hesitant to return to melbourne',\n",
       " 'i feel a little less gloomy a little more optimistic or a little better prepared to face what life throws my way',\n",
       " 'i wont lie im a little worried and nervous and i feel inadequate for the job but ill just do my best thats all my heavenly father wants of me',\n",
       " 'i slough off the carapace of crud that has enveloped me for the past thirty odd hours i feel invigorated and finally ready to face the day',\n",
       " 'ive been a busy girl but it has been a very good type of busy and im feeling really happy about things right now and i am loving my new start in glasgow',\n",
       " 'when my mother kept me in leadingstrings',\n",
       " 'i set my mind to wanting a specific item needing it for a specific event or at a specific time i find ill end up spending more than i want to because i feel pressured by constraints',\n",
       " 'i had written a prayer in my journal that morning after meditating on the greatness of our lord in psalm and had written in closing may we feel your tender care today',\n",
       " 'i should have been depressed but i was actually feeling inspired',\n",
       " 'i feel like not enough people my age actually think that most are pretty devastated that their s have come and gone',\n",
       " 'i get home i laze around in my pajamas feeling grouchy',\n",
       " 'i am feeling pretty homesick this weekend',\n",
       " 'i started out feeling really optimistic and driven for this paper coz it was gonna teach me the meaning and ways of being a leader',\n",
       " ...]"
      ]
     },
     "execution_count": 40,
     "metadata": {},
     "output_type": "execute_result"
    }
   ],
   "source": [
    "tweets"
   ]
  },
  {
   "cell_type": "code",
   "execution_count": 41,
   "metadata": {
    "colab": {
     "base_uri": "https://localhost:8080/"
    },
    "id": "bHD3Tk0J5eiU",
    "outputId": "dde40bf6-e662-49d9-da29-be09514ea4b2"
   },
   "outputs": [
    {
     "data": {
      "text/plain": [
       "('i feel like i have to make the suffering i m seeing mean something', 0)"
      ]
     },
     "execution_count": 41,
     "metadata": {},
     "output_type": "execute_result"
    }
   ],
   "source": [
    "tweets[10], labels[10] "
   ]
  },
  {
   "cell_type": "markdown",
   "metadata": {
    "id": "9guH0-5qiJII"
   },
   "source": [
    "### <font color ='#4F1787'>Tokenizing the Tweets</font> "
   ]
  },
  {
   "cell_type": "markdown",
   "metadata": {},
   "source": [
    "The Tokenizer class in the tensorflow.keras.preprocessing.text module is a powerful tool for tokenizing text data in Python. It provides methods to convert text into sequences of tokens, which can then be used for further analysis or modeling."
   ]
  },
  {
   "cell_type": "code",
   "execution_count": 44,
   "metadata": {
    "id": "IYN8LWDmiJII"
   },
   "outputs": [],
   "source": [
    "from tensorflow.keras.preprocessing.text import Tokenizer"
   ]
  },
  {
   "cell_type": "code",
   "execution_count": 45,
   "metadata": {
    "colab": {
     "base_uri": "https://localhost:8080/"
    },
    "id": "cckUvwBo5eif",
    "outputId": "5a8e8d73-52a1-4789-ee67-8c64fa7334ed"
   },
   "outputs": [
    {
     "name": "stdout",
     "output_type": "stream",
     "text": [
      "[[2, 3, 14, 2, 21, 5, 80, 6, 733, 2, 93, 544, 304, 84]]\n"
     ]
    }
   ],
   "source": [
    "tokenizer = Tokenizer(num_words=10000, oov_token='<UNK>')\n",
    "\n",
    "tokenizer.fit_on_texts(tweets)\n",
    "\n",
    "print(tokenizer.texts_to_sequences([tweets[10]]))"
   ]
  },
  {
   "cell_type": "markdown",
   "metadata": {},
   "source": [
    "Initializes a tokenizer with a limit of 10,000 words, fits it on a list of tweets, and converts the 11th tweet into a sequence of integers based on the fitted vocabulary."
   ]
  },
  {
   "cell_type": "markdown",
   "metadata": {
    "id": "5AwQt4AgiJIJ"
   },
   "source": [
    "### <font color ='#4F1787'>Padding and Truncating Sequences </font> "
   ]
  },
  {
   "cell_type": "markdown",
   "metadata": {},
   "source": [
    "By using the 'get_sequences' function to preprocess the tweet data, as it can convert the raw text data into a format that is suitable for input to a machine learning model."
   ]
  },
  {
   "cell_type": "code",
   "execution_count": 49,
   "metadata": {
    "id": "tpOTvhoriJIK"
   },
   "outputs": [],
   "source": [
    "# The pad_sequences function is part of the tensorflow.keras.preprocessing.sequence module.\n",
    "# It takes a sequence of sequences as input and returns a new sequence of sequences with padded\n",
    "# or truncated sequences to a specified length.\n",
    "\n",
    "from tensorflow.keras.preprocessing.sequence import pad_sequences"
   ]
  },
  {
   "cell_type": "markdown",
   "metadata": {},
   "source": [
    "Sequences: This is the input sequence of sequences that we want to pad or truncate."
   ]
  },
  {
   "cell_type": "markdown",
   "metadata": {},
   "source": [
    "#### <font color ='navy'>The tokenizer is an instance of a tokenizer object, and tweets is a list of strings representing the tweets."
   ]
  },
  {
   "cell_type": "code",
   "execution_count": 52,
   "metadata": {
    "id": "Q9J_Iemf5eiq"
   },
   "outputs": [],
   "source": [
    "def get_sequences(tokenizer, tweets):\n",
    "    \n",
    "    # Each tweet is transformed into a sequence of numbers based on the tokenizer's vocabulary.\n",
    "    sequences = tokenizer.texts_to_sequences(tweets)\n",
    "\n",
    "    # It takes the sequences as input and performs padding to make all sequences of equal length.\n",
    "    padded_sequences = pad_sequences(sequences, truncating='post', maxlen=50, padding='post')\n",
    "    return padded_sequences"
   ]
  },
  {
   "cell_type": "markdown",
   "metadata": {},
   "source": [
    "The function get_sequences transforms tweets into padded sequences of numbers using a tokenizer, ensuring all sequences are of equal length."
   ]
  },
  {
   "cell_type": "code",
   "execution_count": 54,
   "metadata": {
    "id": "eglH77ky5ei0"
   },
   "outputs": [],
   "source": [
    "padded_train_sequences = get_sequences(tokenizer, tweets)"
   ]
  },
  {
   "cell_type": "code",
   "execution_count": 55,
   "metadata": {
    "colab": {
     "base_uri": "https://localhost:8080/"
    },
    "id": "iGR473HA5ei7",
    "outputId": "24268d40-1685-4b2d-bc6b-dd5f2f6dbaf5"
   },
   "outputs": [
    {
     "data": {
      "text/plain": [
       "array([  2,   3,  14,   2,  21,   5,  80,   6, 733,   2,  93, 544, 304,\n",
       "        84,   0,   0,   0,   0,   0,   0,   0,   0,   0,   0,   0,   0,\n",
       "         0,   0,   0,   0,   0,   0,   0,   0,   0,   0,   0,   0,   0,\n",
       "         0,   0,   0,   0,   0,   0,   0,   0,   0,   0,   0])"
      ]
     },
     "execution_count": 55,
     "metadata": {},
     "output_type": "execute_result"
    }
   ],
   "source": [
    "padded_train_sequences[10]"
   ]
  },
  {
   "cell_type": "markdown",
   "metadata": {
    "id": "cZ5SSsM4iJIL"
   },
   "source": [
    "### <font color ='#4F1787'>Preparing the Emotion Labels</font> "
   ]
  },
  {
   "cell_type": "markdown",
   "metadata": {},
   "source": [
    "#### <font color ='navy'>Extracting Unique Classes from Labels."
   ]
  },
  {
   "cell_type": "code",
   "execution_count": 58,
   "metadata": {
    "colab": {
     "base_uri": "https://localhost:8080/"
    },
    "id": "SufT2bpD5ejE",
    "outputId": "985137b7-b4bb-432e-99e9-186545507243"
   },
   "outputs": [
    {
     "name": "stdout",
     "output_type": "stream",
     "text": [
      "{0, 1, 2, 3, 4, 5}\n"
     ]
    }
   ],
   "source": [
    "classes = set(labels)\n",
    "print(classes)"
   ]
  },
  {
   "cell_type": "markdown",
   "metadata": {},
   "source": [
    "#### <font color ='navy'> Mapping Class Labels to Indices and Vice Versa"
   ]
  },
  {
   "cell_type": "code",
   "execution_count": 60,
   "metadata": {
    "id": "dNLF6rXL5ejN"
   },
   "outputs": [],
   "source": [
    "classes_to_index = dict((c, i) for i, c in enumerate(classes))\n",
    "index_to_classes = dict((v, k) for k, v in classes_to_index.items())"
   ]
  },
  {
   "cell_type": "markdown",
   "metadata": {},
   "source": [
    "Creates two dictionaries: classes_to_index, which maps class labels to their corresponding indices, and index_to_classes, which maps indices back to the class labels. "
   ]
  },
  {
   "cell_type": "code",
   "execution_count": 62,
   "metadata": {
    "colab": {
     "base_uri": "https://localhost:8080/"
    },
    "id": "AJx0hFItiJIO",
    "outputId": "dc92c81e-26c9-44a8-d3df-5087c0ad28e1"
   },
   "outputs": [
    {
     "data": {
      "text/plain": [
       "{0: 0, 1: 1, 2: 2, 3: 3, 4: 4, 5: 5}"
      ]
     },
     "execution_count": 62,
     "metadata": {},
     "output_type": "execute_result"
    }
   ],
   "source": [
    "index_to_classes"
   ]
  },
  {
   "cell_type": "markdown",
   "metadata": {},
   "source": [
    "#### <font color ='navy'> Mapping Class Labels to Numeric IDs"
   ]
  },
  {
   "cell_type": "code",
   "execution_count": 64,
   "metadata": {
    "id": "Jq0WJYsP5ejR"
   },
   "outputs": [],
   "source": [
    "names_to_ids = lambda labels: np.array([classes_to_index.get(x) for x in labels])"
   ]
  },
  {
   "cell_type": "markdown",
   "metadata": {},
   "source": [
    "Converts a list of class labels into an array of corresponding indices using a dictionary classes_to_index."
   ]
  },
  {
   "cell_type": "markdown",
   "metadata": {},
   "source": [
    "#### <font color ='navy'> Convert Label Names to IDs"
   ]
  },
  {
   "cell_type": "code",
   "execution_count": 67,
   "metadata": {
    "colab": {
     "base_uri": "https://localhost:8080/"
    },
    "id": "v15KnrNC5ejW",
    "outputId": "59f47aaf-a740-40d6-a360-696b9a34de43"
   },
   "outputs": [
    {
     "name": "stdout",
     "output_type": "stream",
     "text": [
      "1\n"
     ]
    }
   ],
   "source": [
    "train_labels = names_to_ids(labels)\n",
    "print(train_labels[11])"
   ]
  },
  {
   "cell_type": "markdown",
   "metadata": {
    "id": "bD4np-KsiJIS"
   },
   "source": [
    "### <font color ='#4F1787'>Creating the RNN Model with LSTM</font> "
   ]
  },
  {
   "cell_type": "code",
   "execution_count": 69,
   "metadata": {
    "colab": {
     "base_uri": "https://localhost:8080/"
    },
    "id": "OpewXxPQ5eji",
    "outputId": "b5c14cc7-90de-4934-9826-7787fc294cb8"
   },
   "outputs": [
    {
     "data": {
      "text/html": [
       "<pre style=\"white-space:pre;overflow-x:auto;line-height:normal;font-family:Menlo,'DejaVu Sans Mono',consolas,'Courier New',monospace\"><span style=\"font-weight: bold\">Model: \"sequential\"</span>\n",
       "</pre>\n"
      ],
      "text/plain": [
       "\u001b[1mModel: \"sequential\"\u001b[0m\n"
      ]
     },
     "metadata": {},
     "output_type": "display_data"
    },
    {
     "data": {
      "text/html": [
       "<pre style=\"white-space:pre;overflow-x:auto;line-height:normal;font-family:Menlo,'DejaVu Sans Mono',consolas,'Courier New',monospace\">┏━━━━━━━━━━━━━━━━━━━━━━━━━━━━━━━━━━━━━━┳━━━━━━━━━━━━━━━━━━━━━━━━━━━━━┳━━━━━━━━━━━━━━━━━┓\n",
       "┃<span style=\"font-weight: bold\"> Layer (type)                         </span>┃<span style=\"font-weight: bold\"> Output Shape                </span>┃<span style=\"font-weight: bold\">         Param # </span>┃\n",
       "┡━━━━━━━━━━━━━━━━━━━━━━━━━━━━━━━━━━━━━━╇━━━━━━━━━━━━━━━━━━━━━━━━━━━━━╇━━━━━━━━━━━━━━━━━┩\n",
       "│ embedding (<span style=\"color: #0087ff; text-decoration-color: #0087ff\">Embedding</span>)                │ ?                           │     <span style=\"color: #00af00; text-decoration-color: #00af00\">0</span> (unbuilt) │\n",
       "├──────────────────────────────────────┼─────────────────────────────┼─────────────────┤\n",
       "│ bidirectional (<span style=\"color: #0087ff; text-decoration-color: #0087ff\">Bidirectional</span>)        │ ?                           │     <span style=\"color: #00af00; text-decoration-color: #00af00\">0</span> (unbuilt) │\n",
       "├──────────────────────────────────────┼─────────────────────────────┼─────────────────┤\n",
       "│ bidirectional_1 (<span style=\"color: #0087ff; text-decoration-color: #0087ff\">Bidirectional</span>)      │ ?                           │     <span style=\"color: #00af00; text-decoration-color: #00af00\">0</span> (unbuilt) │\n",
       "├──────────────────────────────────────┼─────────────────────────────┼─────────────────┤\n",
       "│ dense (<span style=\"color: #0087ff; text-decoration-color: #0087ff\">Dense</span>)                        │ ?                           │     <span style=\"color: #00af00; text-decoration-color: #00af00\">0</span> (unbuilt) │\n",
       "└──────────────────────────────────────┴─────────────────────────────┴─────────────────┘\n",
       "</pre>\n"
      ],
      "text/plain": [
       "┏━━━━━━━━━━━━━━━━━━━━━━━━━━━━━━━━━━━━━━┳━━━━━━━━━━━━━━━━━━━━━━━━━━━━━┳━━━━━━━━━━━━━━━━━┓\n",
       "┃\u001b[1m \u001b[0m\u001b[1mLayer (type)                        \u001b[0m\u001b[1m \u001b[0m┃\u001b[1m \u001b[0m\u001b[1mOutput Shape               \u001b[0m\u001b[1m \u001b[0m┃\u001b[1m \u001b[0m\u001b[1m        Param #\u001b[0m\u001b[1m \u001b[0m┃\n",
       "┡━━━━━━━━━━━━━━━━━━━━━━━━━━━━━━━━━━━━━━╇━━━━━━━━━━━━━━━━━━━━━━━━━━━━━╇━━━━━━━━━━━━━━━━━┩\n",
       "│ embedding (\u001b[38;5;33mEmbedding\u001b[0m)                │ ?                           │     \u001b[38;5;34m0\u001b[0m (unbuilt) │\n",
       "├──────────────────────────────────────┼─────────────────────────────┼─────────────────┤\n",
       "│ bidirectional (\u001b[38;5;33mBidirectional\u001b[0m)        │ ?                           │     \u001b[38;5;34m0\u001b[0m (unbuilt) │\n",
       "├──────────────────────────────────────┼─────────────────────────────┼─────────────────┤\n",
       "│ bidirectional_1 (\u001b[38;5;33mBidirectional\u001b[0m)      │ ?                           │     \u001b[38;5;34m0\u001b[0m (unbuilt) │\n",
       "├──────────────────────────────────────┼─────────────────────────────┼─────────────────┤\n",
       "│ dense (\u001b[38;5;33mDense\u001b[0m)                        │ ?                           │     \u001b[38;5;34m0\u001b[0m (unbuilt) │\n",
       "└──────────────────────────────────────┴─────────────────────────────┴─────────────────┘\n"
      ]
     },
     "metadata": {},
     "output_type": "display_data"
    },
    {
     "data": {
      "text/html": [
       "<pre style=\"white-space:pre;overflow-x:auto;line-height:normal;font-family:Menlo,'DejaVu Sans Mono',consolas,'Courier New',monospace\"><span style=\"font-weight: bold\"> Total params: </span><span style=\"color: #00af00; text-decoration-color: #00af00\">0</span> (0.00 B)\n",
       "</pre>\n"
      ],
      "text/plain": [
       "\u001b[1m Total params: \u001b[0m\u001b[38;5;34m0\u001b[0m (0.00 B)\n"
      ]
     },
     "metadata": {},
     "output_type": "display_data"
    },
    {
     "data": {
      "text/html": [
       "<pre style=\"white-space:pre;overflow-x:auto;line-height:normal;font-family:Menlo,'DejaVu Sans Mono',consolas,'Courier New',monospace\"><span style=\"font-weight: bold\"> Trainable params: </span><span style=\"color: #00af00; text-decoration-color: #00af00\">0</span> (0.00 B)\n",
       "</pre>\n"
      ],
      "text/plain": [
       "\u001b[1m Trainable params: \u001b[0m\u001b[38;5;34m0\u001b[0m (0.00 B)\n"
      ]
     },
     "metadata": {},
     "output_type": "display_data"
    },
    {
     "data": {
      "text/html": [
       "<pre style=\"white-space:pre;overflow-x:auto;line-height:normal;font-family:Menlo,'DejaVu Sans Mono',consolas,'Courier New',monospace\"><span style=\"font-weight: bold\"> Non-trainable params: </span><span style=\"color: #00af00; text-decoration-color: #00af00\">0</span> (0.00 B)\n",
       "</pre>\n"
      ],
      "text/plain": [
       "\u001b[1m Non-trainable params: \u001b[0m\u001b[38;5;34m0\u001b[0m (0.00 B)\n"
      ]
     },
     "metadata": {},
     "output_type": "display_data"
    }
   ],
   "source": [
    "model = tf.keras.models.Sequential([\n",
    "\n",
    "    # Each layer is added to the model in the order they appear in the list.\n",
    "    tf.keras.layers.Embedding(10000, 16, input_length=50),\n",
    "    tf.keras.layers.Bidirectional(tf.keras.layers.LSTM(20, return_sequences=True)),\n",
    "    tf.keras.layers.Bidirectional(tf.keras.layers.LSTM(20)),\n",
    "    tf.keras.layers.Dense(6, activation='softmax')\n",
    "])\n",
    "\n",
    "model.compile(\n",
    "    loss='sparse_categorical_crossentropy',\n",
    "    optimizer='adam',\n",
    "    metrics=['accuracy']\n",
    "\n",
    ")\n",
    "model.summary()"
   ]
  },
  {
   "cell_type": "markdown",
   "metadata": {},
   "source": [
    "The model is a sequential neural network with embedding, bidirectional LSTM layers, and a dense output layer, designed for multi-class classification with categorical cross-entropy loss"
   ]
  },
  {
   "cell_type": "markdown",
   "metadata": {
    "id": "XiU-m6wEiJIT"
   },
   "source": [
    "### <font color ='#4F1787'>Training the Model</font> "
   ]
  },
  {
   "cell_type": "markdown",
   "metadata": {},
   "source": [
    "#### <font color ='navy'> Preparing Validation Data "
   ]
  },
  {
   "cell_type": "code",
   "execution_count": 73,
   "metadata": {
    "id": "Ff7F3hCK5ejm"
   },
   "outputs": [],
   "source": [
    "val_tweets, val_labels = get_tweets(val)\n",
    "val_sequences = get_sequences(tokenizer, val_tweets)\n",
    "val_labels = names_to_ids(val_labels)"
   ]
  },
  {
   "cell_type": "code",
   "execution_count": 74,
   "metadata": {
    "colab": {
     "base_uri": "https://localhost:8080/"
    },
    "id": "hlMKaZ3H5ejr",
    "outputId": "0312fa07-8257-430a-a919-df232ca5a08e"
   },
   "outputs": [
    {
     "data": {
      "text/plain": [
       "('i just know to begin with i am going to feel shy about it', 4)"
      ]
     },
     "execution_count": 74,
     "metadata": {},
     "output_type": "execute_result"
    }
   ],
   "source": [
    "val_tweets[20], val_labels[20]"
   ]
  },
  {
   "cell_type": "markdown",
   "metadata": {},
   "source": [
    "#### <font color ='navy'>Model Training"
   ]
  },
  {
   "cell_type": "code",
   "execution_count": 76,
   "metadata": {
    "colab": {
     "base_uri": "https://localhost:8080/"
    },
    "id": "bzBqnWQ-5ejw",
    "outputId": "0bc22944-c411-402c-f760-285364fa581e"
   },
   "outputs": [
    {
     "name": "stdout",
     "output_type": "stream",
     "text": [
      "Epoch 1/15\n",
      "\u001b[1m500/500\u001b[0m \u001b[32m━━━━━━━━━━━━━━━━━━━━\u001b[0m\u001b[37m\u001b[0m \u001b[1m17s\u001b[0m 21ms/step - accuracy: 0.3535 - loss: 1.5627 - val_accuracy: 0.6630 - val_loss: 0.9022\n",
      "Epoch 2/15\n",
      "\u001b[1m500/500\u001b[0m \u001b[32m━━━━━━━━━━━━━━━━━━━━\u001b[0m\u001b[37m\u001b[0m \u001b[1m10s\u001b[0m 19ms/step - accuracy: 0.7236 - loss: 0.7068 - val_accuracy: 0.7645 - val_loss: 0.6019\n",
      "Epoch 3/15\n",
      "\u001b[1m500/500\u001b[0m \u001b[32m━━━━━━━━━━━━━━━━━━━━\u001b[0m\u001b[37m\u001b[0m \u001b[1m10s\u001b[0m 20ms/step - accuracy: 0.8423 - loss: 0.4269 - val_accuracy: 0.8355 - val_loss: 0.5161\n",
      "Epoch 4/15\n",
      "\u001b[1m500/500\u001b[0m \u001b[32m━━━━━━━━━━━━━━━━━━━━\u001b[0m\u001b[37m\u001b[0m \u001b[1m10s\u001b[0m 21ms/step - accuracy: 0.9154 - loss: 0.2636 - val_accuracy: 0.8530 - val_loss: 0.4675\n",
      "Epoch 5/15\n",
      "\u001b[1m500/500\u001b[0m \u001b[32m━━━━━━━━━━━━━━━━━━━━\u001b[0m\u001b[37m\u001b[0m \u001b[1m10s\u001b[0m 20ms/step - accuracy: 0.9475 - loss: 0.1754 - val_accuracy: 0.8680 - val_loss: 0.4203\n",
      "Epoch 6/15\n",
      "\u001b[1m500/500\u001b[0m \u001b[32m━━━━━━━━━━━━━━━━━━━━\u001b[0m\u001b[37m\u001b[0m \u001b[1m10s\u001b[0m 20ms/step - accuracy: 0.9564 - loss: 0.1452 - val_accuracy: 0.8695 - val_loss: 0.4461\n",
      "Epoch 7/15\n",
      "\u001b[1m500/500\u001b[0m \u001b[32m━━━━━━━━━━━━━━━━━━━━\u001b[0m\u001b[37m\u001b[0m \u001b[1m10s\u001b[0m 21ms/step - accuracy: 0.9698 - loss: 0.1057 - val_accuracy: 0.8785 - val_loss: 0.4196\n",
      "Epoch 8/15\n",
      "\u001b[1m500/500\u001b[0m \u001b[32m━━━━━━━━━━━━━━━━━━━━\u001b[0m\u001b[37m\u001b[0m \u001b[1m10s\u001b[0m 20ms/step - accuracy: 0.9728 - loss: 0.0901 - val_accuracy: 0.8915 - val_loss: 0.3852\n",
      "Epoch 9/15\n",
      "\u001b[1m500/500\u001b[0m \u001b[32m━━━━━━━━━━━━━━━━━━━━\u001b[0m\u001b[37m\u001b[0m \u001b[1m10s\u001b[0m 21ms/step - accuracy: 0.9772 - loss: 0.0782 - val_accuracy: 0.8800 - val_loss: 0.4363\n",
      "Epoch 10/15\n",
      "\u001b[1m500/500\u001b[0m \u001b[32m━━━━━━━━━━━━━━━━━━━━\u001b[0m\u001b[37m\u001b[0m \u001b[1m10s\u001b[0m 20ms/step - accuracy: 0.9814 - loss: 0.0626 - val_accuracy: 0.8925 - val_loss: 0.4161\n",
      "Epoch 11/15\n",
      "\u001b[1m500/500\u001b[0m \u001b[32m━━━━━━━━━━━━━━━━━━━━\u001b[0m\u001b[37m\u001b[0m \u001b[1m10s\u001b[0m 20ms/step - accuracy: 0.9812 - loss: 0.0608 - val_accuracy: 0.8910 - val_loss: 0.3823\n",
      "Epoch 12/15\n",
      "\u001b[1m500/500\u001b[0m \u001b[32m━━━━━━━━━━━━━━━━━━━━\u001b[0m\u001b[37m\u001b[0m \u001b[1m10s\u001b[0m 20ms/step - accuracy: 0.9845 - loss: 0.0477 - val_accuracy: 0.8915 - val_loss: 0.4738\n"
     ]
    }
   ],
   "source": [
    "h = model.fit(\n",
    "    padded_train_sequences, train_labels,validation_data=(val_sequences, val_labels),epochs=15,callbacks=[tf.keras.callbacks.EarlyStopping(monitor='val_accuracy', patience=2)]\n",
    ")"
   ]
  },
  {
   "cell_type": "markdown",
   "metadata": {},
   "source": [
    "The model is trained on padded training sequences with early stopping based on validation accuracy for a maximum of 15 epochs"
   ]
  },
  {
   "cell_type": "markdown",
   "metadata": {
    "id": "kiKaj-3RiJIV"
   },
   "source": [
    "### <font color ='#4F1787'>Evaluating the Model</font> "
   ]
  },
  {
   "cell_type": "code",
   "execution_count": 79,
   "metadata": {
    "colab": {
     "base_uri": "https://localhost:8080/",
     "height": 392
    },
    "id": "PbI05hwKiJIV",
    "outputId": "a4cdfca3-e0f4-427b-ff7a-03e91659c496"
   },
   "outputs": [
    {
     "data": {
      "image/png": "[encoded data removed]",
      "text/plain": [
       "<Figure size 1600x600 with 2 Axes>"
      ]
     },
     "metadata": {},
     "output_type": "display_data"
    }
   ],
   "source": [
    "def show_history(h):\n",
    "    epochs_trained = len(h.history['loss'])\n",
    "    plt.figure(figsize=(16, 6))\n",
    "\n",
    "    plt.subplot(1, 2, 1)\n",
    "    plt.plot(range(0, epochs_trained), h.history.get('accuracy'), label='Training')\n",
    "    plt.plot(range(0, epochs_trained), h.history.get('val_accuracy'), label='Validation')\n",
    "    plt.ylim([0., 1.])\n",
    "    plt.xlabel('Epochs')\n",
    "    plt.ylabel('Accuracy')\n",
    "    plt.legend()\n",
    "\n",
    "    plt.subplot(1, 2, 2)\n",
    "    plt.plot(range(0, epochs_trained), h.history.get('loss'), label='Training')\n",
    "    plt.plot(range(0, epochs_trained), h.history.get('val_loss'), label='Validation')\n",
    "    plt.xlabel('Epochs')\n",
    "    plt.ylabel('Loss')\n",
    "    plt.legend()\n",
    "    plt.show()\n",
    "\n",
    "show_history(h)"
   ]
  },
  {
   "cell_type": "markdown",
   "metadata": {
    "id": "Xu34IB0SIA2N"
   },
   "source": [
    "### <font color ='#4F1787'>Testing Accuracy</font> "
   ]
  },
  {
   "cell_type": "markdown",
   "metadata": {},
   "source": [
    "#### <font color ='navy'>Preprocessing Test Tweets for Model Evaluation"
   ]
  },
  {
   "cell_type": "code",
   "execution_count": 82,
   "metadata": {
    "id": "4xCKeBP1iJIV"
   },
   "outputs": [],
   "source": [
    "test_tweets, test_labels = get_tweets(test)\n",
    "test_sequences = get_sequences(tokenizer, test_tweets)\n",
    "test_labels = names_to_ids(test_labels)"
   ]
  },
  {
   "cell_type": "markdown",
   "metadata": {},
   "source": [
    "The test tweets are tokenized and their corresponding labels are converted from names to IDs for further processing."
   ]
  },
  {
   "cell_type": "markdown",
   "metadata": {},
   "source": [
    "#### <font color ='navy'>Model Evaluation on Test Data"
   ]
  },
  {
   "cell_type": "code",
   "execution_count": 85,
   "metadata": {
    "colab": {
     "base_uri": "https://localhost:8080/"
    },
    "id": "aM7kditpiJIV",
    "outputId": "74835320-d476-4916-8231-d6a92f5501d4"
   },
   "outputs": [
    {
     "name": "stdout",
     "output_type": "stream",
     "text": [
      "\u001b[1m63/63\u001b[0m \u001b[32m━━━━━━━━━━━━━━━━━━━━\u001b[0m\u001b[37m\u001b[0m \u001b[1m0s\u001b[0m 6ms/step - accuracy: 0.8679 - loss: 0.5175\n"
     ]
    }
   ],
   "source": [
    "eval = model.evaluate(test_sequences, test_labels)"
   ]
  },
  {
   "cell_type": "markdown",
   "metadata": {},
   "source": [
    "The model achieved an accuracy of 88.27% with a loss of 0.4582."
   ]
  },
  {
   "cell_type": "code",
   "execution_count": 87,
   "metadata": {},
   "outputs": [
    {
     "name": "stdout",
     "output_type": "stream",
     "text": [
      "\u001b[1m63/63\u001b[0m \u001b[32m━━━━━━━━━━━━━━━━━━━━\u001b[0m\u001b[37m\u001b[0m \u001b[1m2s\u001b[0m 18ms/step\n",
      "(2000,) (2000,)\n"
     ]
    }
   ],
   "source": [
    "preds = model.predict(test_sequences)\n",
    "preds_classes = np.argmax(preds, axis=1)\n",
    "print(preds_classes.shape, test_labels.shape)"
   ]
  },
  {
   "cell_type": "markdown",
   "metadata": {
    "id": "lbPDW8BHIA2S"
   },
   "source": [
    "### <font color ='#4F1787'>Text Content Prediction of Moods(Emotion)</font> "
   ]
  },
  {
   "cell_type": "code",
   "execution_count": 89,
   "metadata": {
    "colab": {
     "base_uri": "https://localhost:8080/"
    },
    "id": "rh638vHG5ej6",
    "outputId": "aa8f053a-58c8-4175-d517-e7121080ab69"
   },
   "outputs": [
    {
     "name": "stdout",
     "output_type": "stream",
     "text": [
      "Tweet: i feel so thrilled to have three such distinguished individuals such as yourselves here\n",
      "Actual Emotion: 1\n",
      "anger\n",
      "\u001b[1m1/1\u001b[0m \u001b[32m━━━━━━━━━━━━━━━━━━━━\u001b[0m\u001b[37m\u001b[0m \u001b[1m0s\u001b[0m 24ms/step\n",
      "Predicted Emotion: 1\n",
      "anger \n",
      "\n",
      "Tweet: i am feeling ok lots of bruising to my arms where they decided to remove blood from me\n",
      "Actual Emotion: 1\n",
      "anger\n",
      "\u001b[1m1/1\u001b[0m \u001b[32m━━━━━━━━━━━━━━━━━━━━\u001b[0m\u001b[37m\u001b[0m \u001b[1m0s\u001b[0m 30ms/step\n",
      "Predicted Emotion: 1\n",
      "anger \n",
      "\n",
      "Tweet: i feel like it is so important for me to publicly bless my virus\n",
      "Actual Emotion: 1\n",
      "anger\n",
      "\u001b[1m1/1\u001b[0m \u001b[32m━━━━━━━━━━━━━━━━━━━━\u001b[0m\u001b[37m\u001b[0m \u001b[1m0s\u001b[0m 27ms/step\n",
      "Predicted Emotion: 1\n",
      "anger \n",
      "\n",
      "Tweet: i checked the babys heartbeat and continued to feel him moving so besides feeling terrible i was at peace\n",
      "Actual Emotion: 0\n",
      "sadness\n",
      "\u001b[1m1/1\u001b[0m \u001b[32m━━━━━━━━━━━━━━━━━━━━\u001b[0m\u001b[37m\u001b[0m \u001b[1m0s\u001b[0m 26ms/step\n",
      "Predicted Emotion: 0\n",
      "sadness \n",
      "\n",
      "Tweet: i feel suffocated and paranoid\n",
      "Actual Emotion: 4\n",
      "fear\n",
      "\u001b[1m1/1\u001b[0m \u001b[32m━━━━━━━━━━━━━━━━━━━━\u001b[0m\u001b[37m\u001b[0m \u001b[1m0s\u001b[0m 27ms/step\n",
      "Predicted Emotion: 4\n",
      "fear \n",
      "\n"
     ]
    }
   ],
   "source": [
    "for a in range(0, 5):\n",
    "    i = random.randint(0, len(test_labels) - 1)\n",
    "\n",
    "    print('Tweet:', test_tweets[i])\n",
    "    print('Actual Emotion:', index_to_classes[test_labels[i]])\n",
    "    l=index_to_classes[test_labels[i]]\n",
    "    e=label_to_emotion[l]\n",
    "    print(e)\n",
    "\n",
    "    prediction = model.predict(np.expand_dims(test_sequences[i], axis=0))[0]\n",
    "    predicted_class = np.argmax(prediction)\n",
    "\n",
    "    print('Predicted Emotion:', index_to_classes.get(predicted_class))\n",
    "    p=index_to_classes.get(predicted_class)\n",
    "    pr=label_to_emotion[l]\n",
    "    print(pr,'\\n')"
   ]
  },
  {
   "cell_type": "markdown",
   "metadata": {
    "id": "_i9LUUDsiJIW"
   },
   "source": [
    "## <font color ='4F1787'>Conclusion</font>"
   ]
  },
  {
   "cell_type": "markdown",
   "metadata": {
    "id": "MB3T_83bIA2S"
   },
   "source": [
    "By leveraging natural language processing and sentiment analysis techniques, this method tailors recommendations based on the emotional resonance of content with individual users. It enhances user experience by providing suggestions aligned with their emotional preferences and helps in discovering relevant content that resonates deeply. However, challenges such as accurately capturing and interpreting emotional nuances, as well as addressing privacy concerns related to emotional data, underscore the need for further research and ethical considerations in implementing content-based emotion filtering systems."
   ]
  },
  {
   "cell_type": "code",
   "execution_count": null,
   "metadata": {},
   "outputs": [],
   "source": []
  }
 ],
 "metadata": {
  "accelerator": "GPU",
  "colab": {
   "provenance": []
  },
  "kernelspec": {
   "display_name": "Python 3 (ipykernel)",
   "language": "python",
   "name": "python3"
  },
  "language_info": {
   "codemirror_mode": {
    "name": "ipython",
    "version": 3
   },
   "file_extension": ".py",
   "mimetype": "text/x-python",
   "name": "python",
   "nbconvert_exporter": "python",
   "pygments_lexer": "ipython3",
   "version": "3.12.4"
  }
 },
 "nbformat": 4,
 "nbformat_minor": 4
}
